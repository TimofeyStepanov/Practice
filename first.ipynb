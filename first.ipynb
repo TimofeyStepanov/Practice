{
  "cells": [
    {
      "cell_type": "markdown",
      "metadata": {
        "id": "hLXFxmV2OPmv"
      },
      "source": [
        "# 100 numpy exercises\n",
        "\n",
        "This is a collection of exercises that have been collected in the numpy mailing list, on stack overflow\n",
        "and in the numpy documentation. The goal of this collection is to offer a quick reference for both old\n",
        "and new users but also to provide a set of exercises for those who teach.\n",
        "\n",
        "\n",
        "If you find an error or think you've a better way to solve some of them, feel\n",
        "free to open an issue at <https://github.com/rougier/numpy-100>."
      ],
      "id": "hLXFxmV2OPmv"
    },
    {
      "cell_type": "markdown",
      "metadata": {
        "id": "OPZsh7M-OPmx"
      },
      "source": [
        "File automatically generated. See the documentation to update questions/answers/hints programmatically."
      ],
      "id": "OPZsh7M-OPmx"
    },
    {
      "cell_type": "markdown",
      "metadata": {
        "id": "F4LhvuXbOPmy"
      },
      "source": [
        "Run the `initialize.py` module, then for each question you can query the\n",
        "answer or an hint with `hint(n)` or `answer(n)` for `n` question number."
      ],
      "id": "F4LhvuXbOPmy"
    },
    {
      "cell_type": "markdown",
      "metadata": {
        "id": "Gh-Kf5nrOPmz"
      },
      "source": [
        "#### 1. Import the numpy package under the name `np` (★☆☆)"
      ],
      "id": "Gh-Kf5nrOPmz"
    },
    {
      "cell_type": "code",
      "execution_count": 5,
      "metadata": {
        "id": "FNVHmranOPmz"
      },
      "outputs": [],
      "source": [
        "import numpy as np"
      ],
      "id": "FNVHmranOPmz"
    },
    {
      "cell_type": "markdown",
      "metadata": {
        "id": "EATgsLAQOPm0"
      },
      "source": [
        "#### 2. Print the numpy version and the configuration (★☆☆)"
      ],
      "id": "EATgsLAQOPm0"
    },
    {
      "cell_type": "code",
      "execution_count": 6,
      "metadata": {
        "colab": {
          "base_uri": "https://localhost:8080/"
        },
        "id": "q7D-R8RhOPm0",
        "outputId": "3810ea1f-6e92-4367-b5ff-1a582f2ea945"
      },
      "outputs": [
        {
          "output_type": "stream",
          "name": "stdout",
          "text": [
            "1.22.4\n",
            "openblas64__info:\n",
            "    libraries = ['openblas64_', 'openblas64_']\n",
            "    library_dirs = ['/usr/local/lib']\n",
            "    language = c\n",
            "    define_macros = [('HAVE_CBLAS', None), ('BLAS_SYMBOL_SUFFIX', '64_'), ('HAVE_BLAS_ILP64', None)]\n",
            "    runtime_library_dirs = ['/usr/local/lib']\n",
            "blas_ilp64_opt_info:\n",
            "    libraries = ['openblas64_', 'openblas64_']\n",
            "    library_dirs = ['/usr/local/lib']\n",
            "    language = c\n",
            "    define_macros = [('HAVE_CBLAS', None), ('BLAS_SYMBOL_SUFFIX', '64_'), ('HAVE_BLAS_ILP64', None)]\n",
            "    runtime_library_dirs = ['/usr/local/lib']\n",
            "openblas64__lapack_info:\n",
            "    libraries = ['openblas64_', 'openblas64_']\n",
            "    library_dirs = ['/usr/local/lib']\n",
            "    language = c\n",
            "    define_macros = [('HAVE_CBLAS', None), ('BLAS_SYMBOL_SUFFIX', '64_'), ('HAVE_BLAS_ILP64', None), ('HAVE_LAPACKE', None)]\n",
            "    runtime_library_dirs = ['/usr/local/lib']\n",
            "lapack_ilp64_opt_info:\n",
            "    libraries = ['openblas64_', 'openblas64_']\n",
            "    library_dirs = ['/usr/local/lib']\n",
            "    language = c\n",
            "    define_macros = [('HAVE_CBLAS', None), ('BLAS_SYMBOL_SUFFIX', '64_'), ('HAVE_BLAS_ILP64', None), ('HAVE_LAPACKE', None)]\n",
            "    runtime_library_dirs = ['/usr/local/lib']\n",
            "Supported SIMD extensions in this NumPy install:\n",
            "    baseline = SSE,SSE2,SSE3\n",
            "    found = SSSE3,SSE41,POPCNT,SSE42,AVX,F16C,FMA3,AVX2\n",
            "    not found = AVX512F,AVX512CD,AVX512_KNL,AVX512_KNM,AVX512_SKX,AVX512_CLX,AVX512_CNL,AVX512_ICL\n"
          ]
        }
      ],
      "source": [
        "print(np.__version__)\n",
        "np.show_config()"
      ],
      "id": "q7D-R8RhOPm0"
    },
    {
      "cell_type": "markdown",
      "metadata": {
        "id": "6YIC_YJnOPm0"
      },
      "source": [
        "#### 3. Create a null vector of size 10 (★☆☆)"
      ],
      "id": "6YIC_YJnOPm0"
    },
    {
      "cell_type": "code",
      "execution_count": 7,
      "metadata": {
        "colab": {
          "base_uri": "https://localhost:8080/"
        },
        "id": "O1g1-fMBOPm0",
        "outputId": "b60d4792-6537-41ef-89d8-464f7fb7055e"
      },
      "outputs": [
        {
          "output_type": "stream",
          "name": "stdout",
          "text": [
            "[0. 0. 0. 0. 0. 0. 0. 0. 0. 0.]\n"
          ]
        }
      ],
      "source": [
        "V = np.zeros(10)\n",
        "print(V)"
      ],
      "id": "O1g1-fMBOPm0"
    },
    {
      "cell_type": "markdown",
      "metadata": {
        "id": "tS-tUKGOOPm1"
      },
      "source": [
        "#### 4. How to find the memory size of any array (★☆☆)"
      ],
      "id": "tS-tUKGOOPm1"
    },
    {
      "cell_type": "code",
      "execution_count": 8,
      "metadata": {
        "colab": {
          "base_uri": "https://localhost:8080/"
        },
        "id": "F0ihp4oSOPm1",
        "outputId": "c698c119-7a19-4852-84b5-a5aad324a6d9"
      },
      "outputs": [
        {
          "output_type": "stream",
          "name": "stdout",
          "text": [
            "800 bytes\n"
          ]
        }
      ],
      "source": [
        "A = np.zeros((10,10))\n",
        "print(\"%d bytes\" % (A.size*A.itemsize))"
      ],
      "id": "F0ihp4oSOPm1"
    },
    {
      "cell_type": "markdown",
      "metadata": {
        "id": "GUmnapNQOPm1"
      },
      "source": [
        "#### 6. Create a null vector of size 10 but the fifth value which is 1 (★☆☆)"
      ],
      "id": "GUmnapNQOPm1"
    },
    {
      "cell_type": "code",
      "execution_count": 10,
      "metadata": {
        "colab": {
          "base_uri": "https://localhost:8080/"
        },
        "id": "FqcfiFv9OPm2",
        "outputId": "8d8af2e0-2b13-4b04-87ce-230248965d6f"
      },
      "outputs": [
        {
          "output_type": "stream",
          "name": "stdout",
          "text": [
            "[0. 0. 0. 0. 1. 0. 0. 0. 0. 0.]\n"
          ]
        }
      ],
      "source": [
        "V = np.zeros(10)\n",
        "V[4] = 1\n",
        "print(V)"
      ],
      "id": "FqcfiFv9OPm2"
    },
    {
      "cell_type": "markdown",
      "metadata": {
        "id": "_CK6cv44OPm2"
      },
      "source": [
        "#### 7. Create a vector with values ranging from 10 to 49 (★☆☆)"
      ],
      "id": "_CK6cv44OPm2"
    },
    {
      "cell_type": "code",
      "execution_count": 12,
      "metadata": {
        "colab": {
          "base_uri": "https://localhost:8080/"
        },
        "id": "yERkGAPpOPm2",
        "outputId": "4ec0eeb3-f146-4645-c820-e24d291fb019"
      },
      "outputs": [
        {
          "output_type": "stream",
          "name": "stdout",
          "text": [
            "[10 11 12 13 14 15 16 17 18 19 20 21 22 23 24 25 26 27 28 29 30 31 32 33\n",
            " 34 35 36 37 38 39 40 41 42 43 44 45 46 47 48 49]\n"
          ]
        }
      ],
      "source": [
        "V = np.arange(10,50)\n",
        "print(V)"
      ],
      "id": "yERkGAPpOPm2"
    },
    {
      "cell_type": "markdown",
      "metadata": {
        "id": "AmaqwCg-OPm2"
      },
      "source": [
        "#### 8. Reverse a vector (first element becomes last) (★☆☆)"
      ],
      "id": "AmaqwCg-OPm2"
    },
    {
      "cell_type": "code",
      "execution_count": 14,
      "metadata": {
        "colab": {
          "base_uri": "https://localhost:8080/"
        },
        "id": "2EiutoxOOPm2",
        "outputId": "8c39c736-903e-42ff-9944-046538e2829d"
      },
      "outputs": [
        {
          "output_type": "stream",
          "name": "stdout",
          "text": [
            "[49 48 47 46 45 44 43 42 41 40 39 38 37 36 35 34 33 32 31 30 29 28 27 26\n",
            " 25 24 23 22 21 20 19 18 17 16 15 14 13 12 11 10  9  8  7  6  5  4  3  2\n",
            "  1  0]\n"
          ]
        }
      ],
      "source": [
        "V = np.arange(50)\n",
        "V = V[::-1]\n",
        "print(V)"
      ],
      "id": "2EiutoxOOPm2"
    },
    {
      "cell_type": "markdown",
      "metadata": {
        "id": "bJu7_SEUOPm2"
      },
      "source": [
        "#### 9. Create a 3x3 matrix with values ranging from 0 to 8 (★☆☆)"
      ],
      "id": "bJu7_SEUOPm2"
    },
    {
      "cell_type": "code",
      "execution_count": 15,
      "metadata": {
        "colab": {
          "base_uri": "https://localhost:8080/"
        },
        "id": "bZpqCMmtOPm3",
        "outputId": "6c7e5dc8-d7af-4cf7-95b3-fb5ace5250b5"
      },
      "outputs": [
        {
          "output_type": "stream",
          "name": "stdout",
          "text": [
            "[[0 1 2]\n",
            " [3 4 5]\n",
            " [6 7 8]]\n"
          ]
        }
      ],
      "source": [
        "V = np.arange(9).reshape(3, 3)\n",
        "print(V)"
      ],
      "id": "bZpqCMmtOPm3"
    },
    {
      "cell_type": "markdown",
      "metadata": {
        "id": "SpGqH9n_OPm3"
      },
      "source": [
        "#### 10. Find indices of non-zero elements from [1,2,0,0,4,0] (★☆☆)"
      ],
      "id": "SpGqH9n_OPm3"
    },
    {
      "cell_type": "code",
      "execution_count": 16,
      "metadata": {
        "colab": {
          "base_uri": "https://localhost:8080/"
        },
        "id": "0VvEHTMzOPm3",
        "outputId": "57159274-55af-485d-8959-baa98eca5cc0"
      },
      "outputs": [
        {
          "output_type": "stream",
          "name": "stdout",
          "text": [
            "(array([0, 1, 4]),)\n"
          ]
        }
      ],
      "source": [
        "nz = np.nonzero([1,2,0,0,4,0])\n",
        "print(nz)"
      ],
      "id": "0VvEHTMzOPm3"
    },
    {
      "cell_type": "markdown",
      "metadata": {
        "id": "4TK0xaSZOPm3"
      },
      "source": [
        "#### 11. Create a 3x3 identity matrix (★☆☆)"
      ],
      "id": "4TK0xaSZOPm3"
    },
    {
      "cell_type": "code",
      "execution_count": 17,
      "metadata": {
        "colab": {
          "base_uri": "https://localhost:8080/"
        },
        "id": "bOjnBQD2OPm3",
        "outputId": "ada00922-9ea8-41c3-f88b-96bd9e7c4ae9"
      },
      "outputs": [
        {
          "output_type": "stream",
          "name": "stdout",
          "text": [
            "[[1. 0. 0.]\n",
            " [0. 1. 0.]\n",
            " [0. 0. 1.]]\n"
          ]
        }
      ],
      "source": [
        "M = np.eye(3)\n",
        "print(M)"
      ],
      "id": "bOjnBQD2OPm3"
    },
    {
      "cell_type": "markdown",
      "metadata": {
        "id": "6Ydug4omOPm4"
      },
      "source": [
        "#### 12. Create a 3x3x3 array with random values (★☆☆)"
      ],
      "id": "6Ydug4omOPm4"
    },
    {
      "cell_type": "code",
      "execution_count": 18,
      "metadata": {
        "colab": {
          "base_uri": "https://localhost:8080/"
        },
        "id": "at_ds3UCOPm4",
        "outputId": "5da886d4-897b-4685-f773-d3bc2380d6c8"
      },
      "outputs": [
        {
          "output_type": "stream",
          "name": "stdout",
          "text": [
            "[[[0.40921946 0.68761565 0.76816684]\n",
            "  [0.60861644 0.9435353  0.0061689 ]\n",
            "  [0.53912713 0.75460104 0.29681179]]\n",
            "\n",
            " [[0.2411019  0.92750668 0.70144523]\n",
            "  [0.5382817  0.57584995 0.3993728 ]\n",
            "  [0.79865521 0.03785511 0.19226958]]\n",
            "\n",
            " [[0.2876144  0.02123335 0.44513634]\n",
            "  [0.08417561 0.68970974 0.59659143]\n",
            "  [0.99990707 0.10991284 0.53315248]]]\n"
          ]
        }
      ],
      "source": [
        "A = np.random.random((3,3,3))\n",
        "print(A)"
      ],
      "id": "at_ds3UCOPm4"
    },
    {
      "cell_type": "markdown",
      "metadata": {
        "id": "nsrTlb-POPm4"
      },
      "source": [
        "#### 13. Create a 10x10 array with random values and find the minimum and maximum values (★☆☆)"
      ],
      "id": "nsrTlb-POPm4"
    },
    {
      "cell_type": "code",
      "execution_count": 19,
      "metadata": {
        "colab": {
          "base_uri": "https://localhost:8080/"
        },
        "id": "su2OlQyJOPm4",
        "outputId": "5b0a7d01-ba03-4621-fd5b-10410c92c6ba"
      },
      "outputs": [
        {
          "output_type": "stream",
          "name": "stdout",
          "text": [
            "0.005719805286858226 0.9734879970990543\n"
          ]
        }
      ],
      "source": [
        "Z = np.random.random((10,10))\n",
        "Zmin, Zmax = Z.min(), Z.max()\n",
        "print(Zmin, Zmax)"
      ],
      "id": "su2OlQyJOPm4"
    },
    {
      "cell_type": "markdown",
      "metadata": {
        "id": "TkH-IIacOPm4"
      },
      "source": [
        "#### 14. Create a random vector of size 30 and find the mean value (★☆☆)"
      ],
      "id": "TkH-IIacOPm4"
    },
    {
      "cell_type": "code",
      "execution_count": 20,
      "metadata": {
        "colab": {
          "base_uri": "https://localhost:8080/"
        },
        "id": "2z-_m282OPm4",
        "outputId": "8b013f4a-da7e-4384-a4c4-ac76abc39430"
      },
      "outputs": [
        {
          "output_type": "stream",
          "name": "stdout",
          "text": [
            "0.5125483955961383\n"
          ]
        }
      ],
      "source": [
        "V = np.random.random(30)\n",
        "m = V.mean()\n",
        "print(m)"
      ],
      "id": "2z-_m282OPm4"
    },
    {
      "cell_type": "markdown",
      "metadata": {
        "id": "Drp0ctz0OPm5"
      },
      "source": [
        "#### 15. Create a 2d array with 1 on the border and 0 inside (★☆☆)"
      ],
      "id": "Drp0ctz0OPm5"
    },
    {
      "cell_type": "code",
      "execution_count": 21,
      "metadata": {
        "colab": {
          "base_uri": "https://localhost:8080/"
        },
        "id": "GhFoPTDgOPm5",
        "outputId": "904a2d95-24ac-4c65-e9b2-568f3f7776d4"
      },
      "outputs": [
        {
          "output_type": "stream",
          "name": "stdout",
          "text": [
            "[[1. 1. 1. 1. 1. 1. 1. 1. 1. 1.]\n",
            " [1. 0. 0. 0. 0. 0. 0. 0. 0. 1.]\n",
            " [1. 0. 0. 0. 0. 0. 0. 0. 0. 1.]\n",
            " [1. 0. 0. 0. 0. 0. 0. 0. 0. 1.]\n",
            " [1. 0. 0. 0. 0. 0. 0. 0. 0. 1.]\n",
            " [1. 0. 0. 0. 0. 0. 0. 0. 0. 1.]\n",
            " [1. 0. 0. 0. 0. 0. 0. 0. 0. 1.]\n",
            " [1. 0. 0. 0. 0. 0. 0. 0. 0. 1.]\n",
            " [1. 0. 0. 0. 0. 0. 0. 0. 0. 1.]\n",
            " [1. 1. 1. 1. 1. 1. 1. 1. 1. 1.]]\n"
          ]
        }
      ],
      "source": [
        "A = np.ones((10,10))\n",
        "A[1:-1,1:-1] = 0\n",
        "print(A)"
      ],
      "id": "GhFoPTDgOPm5"
    },
    {
      "cell_type": "markdown",
      "metadata": {
        "id": "imaxH4XEOPm5"
      },
      "source": [
        "#### 16. How to add a border (filled with 0's) around an existing array? (★☆☆)"
      ],
      "id": "imaxH4XEOPm5"
    },
    {
      "cell_type": "code",
      "execution_count": 22,
      "metadata": {
        "colab": {
          "base_uri": "https://localhost:8080/"
        },
        "id": "SyGIDDjVOPm5",
        "outputId": "2bdc94e8-39d0-4137-f0a8-56cbbc3f5017"
      },
      "outputs": [
        {
          "output_type": "stream",
          "name": "stdout",
          "text": [
            "[[0. 0. 0. 0. 0. 0. 0.]\n",
            " [0. 1. 1. 1. 1. 1. 0.]\n",
            " [0. 1. 1. 1. 1. 1. 0.]\n",
            " [0. 1. 1. 1. 1. 1. 0.]\n",
            " [0. 1. 1. 1. 1. 1. 0.]\n",
            " [0. 1. 1. 1. 1. 1. 0.]\n",
            " [0. 0. 0. 0. 0. 0. 0.]]\n"
          ]
        }
      ],
      "source": [
        "Z = np.ones((5,5))\n",
        "Z = np.pad(Z, pad_width=1, mode='constant', constant_values=0)\n",
        "print(Z)"
      ],
      "id": "SyGIDDjVOPm5"
    },
    {
      "cell_type": "markdown",
      "metadata": {
        "id": "5UDr-KU1OPm5"
      },
      "source": [
        "#### 17. What is the result of the following expression? (★☆☆)\n",
        "```python\n",
        "0 * np.nan\n",
        "np.nan == np.nan\n",
        "np.inf > np.nan\n",
        "np.nan - np.nan\n",
        "np.nan in set([np.nan])\n",
        "0.3 == 3 * 0.1\n",
        "```"
      ],
      "id": "5UDr-KU1OPm5"
    },
    {
      "cell_type": "code",
      "execution_count": 23,
      "metadata": {
        "colab": {
          "base_uri": "https://localhost:8080/"
        },
        "id": "sy7ZGtmSOPm5",
        "outputId": "5e6ce866-d6dc-44c8-f3d5-ba4926de5b38"
      },
      "outputs": [
        {
          "output_type": "stream",
          "name": "stdout",
          "text": [
            "nan\n",
            "False\n",
            "False\n",
            "nan\n",
            "True\n",
            "False\n"
          ]
        }
      ],
      "source": [
        "print(0 * np.nan)\n",
        "print(np.nan == np.nan)\n",
        "print(np.inf > np.nan)\n",
        "print(np.nan - np.nan)\n",
        "print(np.nan in set([np.nan]))\n",
        "print(0.3 == 3 * 0.1)"
      ],
      "id": "sy7ZGtmSOPm5"
    },
    {
      "cell_type": "markdown",
      "metadata": {
        "id": "7YEnpmWqOPm6"
      },
      "source": [
        "#### 18. Create a 5x5 matrix with values 1,2,3,4 just below the diagonal (★☆☆)"
      ],
      "id": "7YEnpmWqOPm6"
    },
    {
      "cell_type": "code",
      "execution_count": 24,
      "metadata": {
        "colab": {
          "base_uri": "https://localhost:8080/"
        },
        "id": "8RNc4eCrOPm6",
        "outputId": "675d3a1e-c72f-4cc9-e648-53828e988e96"
      },
      "outputs": [
        {
          "output_type": "stream",
          "name": "stdout",
          "text": [
            "[[0 0 0 0 0]\n",
            " [1 0 0 0 0]\n",
            " [0 2 0 0 0]\n",
            " [0 0 3 0 0]\n",
            " [0 0 0 4 0]]\n"
          ]
        }
      ],
      "source": [
        "Z = np.diag(1+np.arange(4),k=-1)\n",
        "print(Z)"
      ],
      "id": "8RNc4eCrOPm6"
    },
    {
      "cell_type": "markdown",
      "metadata": {
        "id": "2fKzNgM0OPm6"
      },
      "source": [
        "#### 19. Create a 8x8 matrix and fill it with a checkerboard pattern (★☆☆)"
      ],
      "id": "2fKzNgM0OPm6"
    },
    {
      "cell_type": "code",
      "execution_count": 25,
      "metadata": {
        "colab": {
          "base_uri": "https://localhost:8080/"
        },
        "id": "XEnAqwHsOPm6",
        "outputId": "6b534c52-f249-4eef-a1e9-40fb1efe3e8c"
      },
      "outputs": [
        {
          "output_type": "stream",
          "name": "stdout",
          "text": [
            "[[0 1 0 1 0 1 0 1]\n",
            " [1 0 1 0 1 0 1 0]\n",
            " [0 1 0 1 0 1 0 1]\n",
            " [1 0 1 0 1 0 1 0]\n",
            " [0 1 0 1 0 1 0 1]\n",
            " [1 0 1 0 1 0 1 0]\n",
            " [0 1 0 1 0 1 0 1]\n",
            " [1 0 1 0 1 0 1 0]]\n"
          ]
        }
      ],
      "source": [
        "Z = np.zeros((8,8),dtype=int)\n",
        "Z[1::2,::2] = 1\n",
        "Z[::2,1::2] = 1\n",
        "print(Z)"
      ],
      "id": "XEnAqwHsOPm6"
    },
    {
      "cell_type": "markdown",
      "metadata": {
        "id": "ufKJxVFHOPm6"
      },
      "source": [
        "#### 20. Consider a (6,7,8) shape array, what is the index (x,y,z) of the 100th element? (★☆☆)"
      ],
      "id": "ufKJxVFHOPm6"
    },
    {
      "cell_type": "code",
      "execution_count": 26,
      "metadata": {
        "colab": {
          "base_uri": "https://localhost:8080/"
        },
        "id": "sUiE2qXnOPm6",
        "outputId": "7362039a-2523-451b-bb41-729dc9d35a54"
      },
      "outputs": [
        {
          "output_type": "stream",
          "name": "stdout",
          "text": [
            "(1, 5, 3)\n"
          ]
        }
      ],
      "source": [
        "print(np.unravel_index(99,(6,7,8)))"
      ],
      "id": "sUiE2qXnOPm6"
    },
    {
      "cell_type": "markdown",
      "metadata": {
        "id": "Etb4f-ACOPm7"
      },
      "source": [
        "#### 21. Create a checkerboard 8x8 matrix using the tile function (★☆☆)"
      ],
      "id": "Etb4f-ACOPm7"
    },
    {
      "cell_type": "code",
      "execution_count": 28,
      "metadata": {
        "colab": {
          "base_uri": "https://localhost:8080/"
        },
        "id": "jjUO7P6NOPm7",
        "outputId": "f1cac50f-e6d3-4238-d0f4-e07925c765d7"
      },
      "outputs": [
        {
          "output_type": "stream",
          "name": "stdout",
          "text": [
            "[[0 1 0 1 0 1 0 1]\n",
            " [1 0 1 0 1 0 1 0]\n",
            " [0 1 0 1 0 1 0 1]\n",
            " [1 0 1 0 1 0 1 0]\n",
            " [0 1 0 1 0 1 0 1]\n",
            " [1 0 1 0 1 0 1 0]\n",
            " [0 1 0 1 0 1 0 1]\n",
            " [1 0 1 0 1 0 1 0]]\n"
          ]
        }
      ],
      "source": [
        "C = np.tile( np.array([[0,1],[1,0]]), (4,4))\n",
        "print(C)"
      ],
      "id": "jjUO7P6NOPm7"
    },
    {
      "cell_type": "markdown",
      "metadata": {
        "id": "BbUUfGCcOPm7"
      },
      "source": [
        "#### 22. Normalize a 5x5 random matrix (★☆☆)"
      ],
      "id": "BbUUfGCcOPm7"
    },
    {
      "cell_type": "code",
      "execution_count": 29,
      "metadata": {
        "colab": {
          "base_uri": "https://localhost:8080/"
        },
        "id": "cnhlozgBOPm7",
        "outputId": "3f02213f-6275-498e-cea1-e239a23130ad"
      },
      "outputs": [
        {
          "output_type": "stream",
          "name": "stdout",
          "text": [
            "[[-0.35247351  0.79718195 -0.58970152 -0.34944911 -1.84646918]\n",
            " [ 1.03721462  1.3103427  -0.35593793 -1.4821798   0.44912977]\n",
            " [-1.42363372  0.21772377 -1.02573199 -1.44542775  1.39101498]\n",
            " [ 0.62843214  0.92571975 -0.08682308  0.96242216 -1.31423714]\n",
            " [ 1.07650998  0.28496403  1.29053342 -0.7806784   0.68155387]]\n"
          ]
        }
      ],
      "source": [
        "Z = np.random.random((5,5))\n",
        "Z = (Z - np.mean (Z)) / (np.std (Z))\n",
        "print(Z)"
      ],
      "id": "cnhlozgBOPm7"
    },
    {
      "cell_type": "markdown",
      "metadata": {
        "id": "R65tLc1_OPm7"
      },
      "source": [
        "#### 23. Create a custom dtype that describes a color as four unsigned bytes (RGBA) (★☆☆)"
      ],
      "id": "R65tLc1_OPm7"
    },
    {
      "cell_type": "code",
      "execution_count": 30,
      "metadata": {
        "id": "vRQGT3ZFOPm7"
      },
      "outputs": [],
      "source": [
        "color = np.dtype([(\"r\", np.ubyte),\n",
        "                  (\"g\", np.ubyte),\n",
        "                  (\"b\", np.ubyte),\n",
        "                  (\"a\", np.ubyte)])"
      ],
      "id": "vRQGT3ZFOPm7"
    },
    {
      "cell_type": "markdown",
      "metadata": {
        "id": "citLuDiBOPm7"
      },
      "source": [
        "#### 24. Multiply a 5x3 matrix by a 3x2 matrix (real matrix product) (★☆☆)"
      ],
      "id": "citLuDiBOPm7"
    },
    {
      "cell_type": "code",
      "execution_count": 31,
      "metadata": {
        "colab": {
          "base_uri": "https://localhost:8080/"
        },
        "id": "e-I_bRGBOPm8",
        "outputId": "3e81a23c-5572-4b84-b79e-10d1fff37b41"
      },
      "outputs": [
        {
          "output_type": "stream",
          "name": "stdout",
          "text": [
            "[[3. 3.]\n",
            " [3. 3.]\n",
            " [3. 3.]\n",
            " [3. 3.]\n",
            " [3. 3.]]\n"
          ]
        }
      ],
      "source": [
        "Z = np.dot(np.ones((5,3)), np.ones((3,2)))\n",
        "print(Z)"
      ],
      "id": "e-I_bRGBOPm8"
    },
    {
      "cell_type": "markdown",
      "metadata": {
        "id": "pysL5KbAOPm8"
      },
      "source": [
        "#### 25. Given a 1D array, negate all elements which are between 3 and 8, in place. (★☆☆)"
      ],
      "id": "pysL5KbAOPm8"
    },
    {
      "cell_type": "code",
      "execution_count": 32,
      "metadata": {
        "colab": {
          "base_uri": "https://localhost:8080/"
        },
        "id": "_QI3cLswOPm8",
        "outputId": "3f74b6b3-e5df-45e3-b4e5-73961a5ef0a7"
      },
      "outputs": [
        {
          "output_type": "stream",
          "name": "stdout",
          "text": [
            "[ 0  1  2  3 -4 -5 -6 -7  8  9 10]\n"
          ]
        }
      ],
      "source": [
        "Z = np.arange(11)\n",
        "Z[(3 < Z) & (Z < 8)] *= -1\n",
        "print(Z)"
      ],
      "id": "_QI3cLswOPm8"
    },
    {
      "cell_type": "markdown",
      "metadata": {
        "id": "ziHphttSOPm8"
      },
      "source": [
        "#### 26. What is the output of the following script? (★☆☆)\n",
        "```python\n",
        "print(sum(range(5),-1))\n",
        "from numpy import *\n",
        "print(sum(range(5),-1))\n",
        "```"
      ],
      "id": "ziHphttSOPm8"
    },
    {
      "cell_type": "code",
      "execution_count": 34,
      "metadata": {
        "colab": {
          "base_uri": "https://localhost:8080/"
        },
        "id": "J0QaS52oOPm8",
        "outputId": "752fcd3a-bfaf-4af4-a53d-30e4e80cf316"
      },
      "outputs": [
        {
          "output_type": "stream",
          "name": "stdout",
          "text": [
            "10\n",
            "10\n"
          ]
        }
      ],
      "source": [
        "print(sum(range(5),-1))\n",
        "from numpy import *\n",
        "print(sum(range(5),-1))"
      ],
      "id": "J0QaS52oOPm8"
    },
    {
      "cell_type": "markdown",
      "metadata": {
        "id": "4PK-gg-jOPm8"
      },
      "source": [
        "#### 27. Consider an integer vector Z, which of these expressions are legal? (★☆☆)\n",
        "```python\n",
        "Z**Z\n",
        "2 << Z >> 2\n",
        "Z <- Z\n",
        "1j*Z\n",
        "Z/1/1\n",
        "Z<Z>Z\n",
        "```"
      ],
      "id": "4PK-gg-jOPm8"
    },
    {
      "cell_type": "code",
      "execution_count": 35,
      "metadata": {
        "colab": {
          "base_uri": "https://localhost:8080/"
        },
        "id": "YTNm7pV_OPm8",
        "outputId": "62bb53b8-211d-41c0-cce1-665294626cbb"
      },
      "outputs": [
        {
          "output_type": "execute_result",
          "data": {
            "text/plain": [
              "array([ 0.,  1.,  2.,  3.,  4.,  5.,  6.,  7.,  8.,  9., 10.])"
            ]
          },
          "metadata": {},
          "execution_count": 35
        }
      ],
      "source": [
        "Z = np.arange(11)\n",
        "Z**Z\n",
        "2 << Z >> 2\n",
        "Z <- Z\n",
        "1j*Z\n",
        "Z/1/1"
      ],
      "id": "YTNm7pV_OPm8"
    },
    {
      "cell_type": "markdown",
      "metadata": {
        "id": "_xZtYNEOOPm9"
      },
      "source": [
        "#### 28. What are the result of the following expressions? (★☆☆)\n",
        "```python\n",
        "np.array(0) / np.array(0)\n",
        "np.array(0) // np.array(0)\n",
        "np.array([np.nan]).astype(int).astype(float)\n",
        "```"
      ],
      "id": "_xZtYNEOOPm9"
    },
    {
      "cell_type": "code",
      "execution_count": 36,
      "metadata": {
        "colab": {
          "base_uri": "https://localhost:8080/"
        },
        "id": "cV8FyXFhOPm9",
        "outputId": "c6c9f30f-e99a-4328-d4de-ebdcae89a8be"
      },
      "outputs": [
        {
          "output_type": "stream",
          "name": "stdout",
          "text": [
            "nan\n",
            "0\n",
            "[-9.22337204e+18]\n"
          ]
        },
        {
          "output_type": "stream",
          "name": "stderr",
          "text": [
            "<ipython-input-36-2a10de0ee61b>:1: RuntimeWarning: invalid value encountered in true_divide\n",
            "  print(np.array(0) / np.array(0))\n",
            "<ipython-input-36-2a10de0ee61b>:2: RuntimeWarning: divide by zero encountered in floor_divide\n",
            "  print(np.array(0) // np.array(0))\n"
          ]
        }
      ],
      "source": [
        "print(np.array(0) / np.array(0))\n",
        "print(np.array(0) // np.array(0))\n",
        "print(np.array([np.nan]).astype(int).astype(float))"
      ],
      "id": "cV8FyXFhOPm9"
    },
    {
      "cell_type": "markdown",
      "metadata": {
        "id": "vhuiE0yQOPm9"
      },
      "source": [
        "#### 29. How to round away from zero a float array ? (★☆☆)"
      ],
      "id": "vhuiE0yQOPm9"
    },
    {
      "cell_type": "code",
      "execution_count": 37,
      "metadata": {
        "colab": {
          "base_uri": "https://localhost:8080/"
        },
        "id": "Aj8MGFILOPm9",
        "outputId": "a99843a9-77b5-4ef7-ac8a-e3b4e9f5bb16"
      },
      "outputs": [
        {
          "output_type": "stream",
          "name": "stdout",
          "text": [
            "[ -1.   8.  -8.   2.  -2.  -7. -10.   5.   2.  -5.]\n"
          ]
        }
      ],
      "source": [
        "Z = np.random.uniform(-10,+10,10)\n",
        "print (np.copysign(np.ceil(np.abs(Z)), Z))"
      ],
      "id": "Aj8MGFILOPm9"
    },
    {
      "cell_type": "markdown",
      "metadata": {
        "id": "0XhF1auPOPm9"
      },
      "source": [
        "#### 30. How to find common values between two arrays? (★☆☆)"
      ],
      "id": "0XhF1auPOPm9"
    },
    {
      "cell_type": "code",
      "execution_count": 38,
      "metadata": {
        "colab": {
          "base_uri": "https://localhost:8080/"
        },
        "id": "YbxUnaIPOPm9",
        "outputId": "dcfcc5e0-3fbf-43ca-aef5-31689a635fa1"
      },
      "outputs": [
        {
          "output_type": "stream",
          "name": "stdout",
          "text": [
            "[0 2 3 4 5 6]\n"
          ]
        }
      ],
      "source": [
        "Z1 = np.random.randint(0,10,10)\n",
        "Z2 = np.random.randint(0,10,10)\n",
        "print(np.intersect1d(Z1,Z2))"
      ],
      "id": "YbxUnaIPOPm9"
    },
    {
      "cell_type": "markdown",
      "metadata": {
        "id": "nfWveB9XOPm-"
      },
      "source": [
        "#### 31. How to ignore all numpy warnings (not recommended)? (★☆☆)"
      ],
      "id": "nfWveB9XOPm-"
    },
    {
      "cell_type": "code",
      "execution_count": 39,
      "metadata": {
        "id": "jWKIdhgOOPm-"
      },
      "outputs": [],
      "source": [
        "with np.errstate(divide='ignore'):\n",
        "    Z = np.ones(1) / 0"
      ],
      "id": "jWKIdhgOOPm-"
    },
    {
      "cell_type": "markdown",
      "metadata": {
        "id": "pTAf921wOPm-"
      },
      "source": [
        "#### 32. Is the following expressions true? (★☆☆)\n",
        "```python\n",
        "np.sqrt(-1) == np.emath.sqrt(-1)\n",
        "```"
      ],
      "id": "pTAf921wOPm-"
    },
    {
      "cell_type": "code",
      "execution_count": 40,
      "metadata": {
        "colab": {
          "base_uri": "https://localhost:8080/"
        },
        "id": "EGaSSw8bOPm-",
        "outputId": "343836d5-ec2a-4fdc-e2c8-00f77c82ec32"
      },
      "outputs": [
        {
          "output_type": "stream",
          "name": "stderr",
          "text": [
            "<ipython-input-40-16339fbc685e>:1: RuntimeWarning: invalid value encountered in sqrt\n",
            "  np.sqrt(-1) == np.emath.sqrt(-1)\n"
          ]
        },
        {
          "output_type": "execute_result",
          "data": {
            "text/plain": [
              "False"
            ]
          },
          "metadata": {},
          "execution_count": 40
        }
      ],
      "source": [
        "np.sqrt(-1) == np.emath.sqrt(-1)"
      ],
      "id": "EGaSSw8bOPm-"
    },
    {
      "cell_type": "markdown",
      "metadata": {
        "id": "rAKG2esKOPm-"
      },
      "source": [
        "#### 33. How to get the dates of yesterday, today and tomorrow? (★☆☆)"
      ],
      "id": "rAKG2esKOPm-"
    },
    {
      "cell_type": "code",
      "execution_count": 41,
      "metadata": {
        "id": "Hnb1dP52OPm-"
      },
      "outputs": [],
      "source": [
        "yesterday = np.datetime64('today', 'D') - np.timedelta64(1, 'D')\n",
        "today = np.datetime64('today', 'D')\n",
        "tomorrow = np.datetime64('today', 'D') + np.timedelta64(1, 'D')"
      ],
      "id": "Hnb1dP52OPm-"
    },
    {
      "cell_type": "markdown",
      "metadata": {
        "id": "bPdtRr5FOPm-"
      },
      "source": [
        "#### 34. How to get all the dates corresponding to the month of July 2016? (★★☆)"
      ],
      "id": "bPdtRr5FOPm-"
    },
    {
      "cell_type": "code",
      "execution_count": 42,
      "metadata": {
        "colab": {
          "base_uri": "https://localhost:8080/"
        },
        "id": "bqropAkGOPm-",
        "outputId": "b34a3cf4-da04-4c4e-8f5a-7f31411433f9"
      },
      "outputs": [
        {
          "output_type": "stream",
          "name": "stdout",
          "text": [
            "['2016-07-01' '2016-07-02' '2016-07-03' '2016-07-04' '2016-07-05'\n",
            " '2016-07-06' '2016-07-07' '2016-07-08' '2016-07-09' '2016-07-10'\n",
            " '2016-07-11' '2016-07-12' '2016-07-13' '2016-07-14' '2016-07-15'\n",
            " '2016-07-16' '2016-07-17' '2016-07-18' '2016-07-19' '2016-07-20'\n",
            " '2016-07-21' '2016-07-22' '2016-07-23' '2016-07-24' '2016-07-25'\n",
            " '2016-07-26' '2016-07-27' '2016-07-28' '2016-07-29' '2016-07-30'\n",
            " '2016-07-31']\n"
          ]
        }
      ],
      "source": [
        "Z = np.arange('2016-07', '2016-08', dtype='datetime64[D]')\n",
        "print(Z)"
      ],
      "id": "bqropAkGOPm-"
    },
    {
      "cell_type": "markdown",
      "metadata": {
        "id": "ChnU4c3QOPm_"
      },
      "source": [
        "#### 35. How to compute ((A+B)*(-A/2)) in place (without copy)? (★★☆)"
      ],
      "id": "ChnU4c3QOPm_"
    },
    {
      "cell_type": "code",
      "execution_count": 43,
      "metadata": {
        "colab": {
          "base_uri": "https://localhost:8080/"
        },
        "id": "2gs0nYXNOPm_",
        "outputId": "38e57d8e-da19-438c-d4b5-34ef56ee71f1"
      },
      "outputs": [
        {
          "output_type": "execute_result",
          "data": {
            "text/plain": [
              "array([-1.5, -1.5, -1.5])"
            ]
          },
          "metadata": {},
          "execution_count": 43
        }
      ],
      "source": [
        "A = np.ones(3)*1\n",
        "B = np.ones(3)*2\n",
        "C = np.ones(3)*3\n",
        "np.add(A,B,out=B)\n",
        "np.divide(A,2,out=A)\n",
        "np.negative(A,out=A)\n",
        "np.multiply(A,B,out=A)"
      ],
      "id": "2gs0nYXNOPm_"
    },
    {
      "cell_type": "markdown",
      "metadata": {
        "id": "IeHf78rFOPm_"
      },
      "source": [
        "#### 36. Extract the integer part of a random array of positive numbers using 4 different methods (★★☆)"
      ],
      "id": "IeHf78rFOPm_"
    },
    {
      "cell_type": "code",
      "execution_count": 44,
      "metadata": {
        "colab": {
          "base_uri": "https://localhost:8080/"
        },
        "id": "VdZT5JIaOPm_",
        "outputId": "3e37bc76-e1d9-43f8-99cd-ac0e43006772"
      },
      "outputs": [
        {
          "output_type": "stream",
          "name": "stdout",
          "text": [
            "[3. 2. 8. 7. 4. 6. 3. 8. 7. 5.]\n",
            "[3. 2. 8. 7. 4. 6. 3. 8. 7. 5.]\n",
            "[3. 2. 8. 7. 4. 6. 3. 8. 7. 5.]\n",
            "[3 2 8 7 4 6 3 8 7 5]\n",
            "[3. 2. 8. 7. 4. 6. 3. 8. 7. 5.]\n"
          ]
        }
      ],
      "source": [
        "Z = np.random.uniform(0,10,10)\n",
        "\n",
        "print (Z - Z%1)\n",
        "print (np.floor(Z))\n",
        "print (np.ceil(Z)-1)\n",
        "print (Z.astype(int))\n",
        "print (np.trunc(Z))"
      ],
      "id": "VdZT5JIaOPm_"
    },
    {
      "cell_type": "markdown",
      "metadata": {
        "id": "jn2jHIuDOPm_"
      },
      "source": [
        "#### 37. Create a 5x5 matrix with row values ranging from 0 to 4 (★★☆)"
      ],
      "id": "jn2jHIuDOPm_"
    },
    {
      "cell_type": "code",
      "execution_count": 45,
      "metadata": {
        "colab": {
          "base_uri": "https://localhost:8080/"
        },
        "id": "SuI-BJCQOPm_",
        "outputId": "77581252-68ae-4209-94e2-56472d821007"
      },
      "outputs": [
        {
          "output_type": "stream",
          "name": "stdout",
          "text": [
            "[[0. 1. 2. 3. 4.]\n",
            " [0. 1. 2. 3. 4.]\n",
            " [0. 1. 2. 3. 4.]\n",
            " [0. 1. 2. 3. 4.]\n",
            " [0. 1. 2. 3. 4.]]\n"
          ]
        }
      ],
      "source": [
        "Z = np.zeros((5,5))\n",
        "Z += np.arange(5)\n",
        "print(Z)"
      ],
      "id": "SuI-BJCQOPm_"
    },
    {
      "cell_type": "markdown",
      "metadata": {
        "id": "0PivhmuGOPm_"
      },
      "source": [
        "#### 38. Consider a generator function that generates 10 integers and use it to build an array (★☆☆)"
      ],
      "id": "0PivhmuGOPm_"
    },
    {
      "cell_type": "code",
      "execution_count": 46,
      "metadata": {
        "colab": {
          "base_uri": "https://localhost:8080/"
        },
        "id": "yWyT9sTEOPnA",
        "outputId": "7eac2b26-a023-4c3d-ee0b-cd746d56d634"
      },
      "outputs": [
        {
          "output_type": "stream",
          "name": "stdout",
          "text": [
            "[0. 1. 2. 3. 4. 5. 6. 7. 8. 9.]\n"
          ]
        }
      ],
      "source": [
        "def generate():\n",
        "    for x in range(10):\n",
        "        yield x\n",
        "Z = np.fromiter(generate(),dtype=float,count=-1)\n",
        "print(Z)"
      ],
      "id": "yWyT9sTEOPnA"
    },
    {
      "cell_type": "markdown",
      "metadata": {
        "id": "D9OBtVRzOPnA"
      },
      "source": [
        "#### 39. Create a vector of size 10 with values ranging from 0 to 1, both excluded (★★☆)"
      ],
      "id": "D9OBtVRzOPnA"
    },
    {
      "cell_type": "code",
      "execution_count": 47,
      "metadata": {
        "colab": {
          "base_uri": "https://localhost:8080/"
        },
        "id": "8gt-sktIOPnA",
        "outputId": "596c47eb-3e69-4aa3-9596-cae0f6b3c06a"
      },
      "outputs": [
        {
          "output_type": "stream",
          "name": "stdout",
          "text": [
            "[0.09090909 0.18181818 0.27272727 0.36363636 0.45454545 0.54545455\n",
            " 0.63636364 0.72727273 0.81818182 0.90909091]\n"
          ]
        }
      ],
      "source": [
        "Z = np.linspace(0,1,11,endpoint=False)[1:]\n",
        "print(Z)"
      ],
      "id": "8gt-sktIOPnA"
    },
    {
      "cell_type": "markdown",
      "metadata": {
        "id": "ElRNossdOPnA"
      },
      "source": [
        "#### 40. Create a random vector of size 10 and sort it (★★☆)"
      ],
      "id": "ElRNossdOPnA"
    },
    {
      "cell_type": "code",
      "execution_count": 48,
      "metadata": {
        "colab": {
          "base_uri": "https://localhost:8080/"
        },
        "id": "eKkcMbCgOPnA",
        "outputId": "97ccd9db-8961-4ee0-f441-752b01fd5aea"
      },
      "outputs": [
        {
          "output_type": "stream",
          "name": "stdout",
          "text": [
            "[0.23793161 0.30655006 0.35161641 0.38940776 0.78572743 0.79850939\n",
            " 0.8285089  0.84319049 0.89337526 0.89464106]\n"
          ]
        }
      ],
      "source": [
        "Z = np.random.random(10)\n",
        "Z.sort()\n",
        "print(Z)"
      ],
      "id": "eKkcMbCgOPnA"
    },
    {
      "cell_type": "markdown",
      "metadata": {
        "id": "du-9DhdjOPnA"
      },
      "source": [
        "#### 41. How to sum a small array faster than np.sum? (★★☆)"
      ],
      "id": "du-9DhdjOPnA"
    },
    {
      "cell_type": "code",
      "execution_count": 49,
      "metadata": {
        "colab": {
          "base_uri": "https://localhost:8080/"
        },
        "id": "ag3WgcrrOPnA",
        "outputId": "77595249-1b17-42e1-8dcd-a0d6df58c06f"
      },
      "outputs": [
        {
          "output_type": "execute_result",
          "data": {
            "text/plain": [
              "45"
            ]
          },
          "metadata": {},
          "execution_count": 49
        }
      ],
      "source": [
        "Z = np.arange(10)\n",
        "np.add.reduce(Z)"
      ],
      "id": "ag3WgcrrOPnA"
    },
    {
      "cell_type": "markdown",
      "metadata": {
        "id": "UCcFcIqQOPnB"
      },
      "source": [
        "#### 42. Consider two random array A and B, check if they are equal (★★☆)"
      ],
      "id": "UCcFcIqQOPnB"
    }
  ],
  "metadata": {
    "kernelspec": {
      "display_name": "Python 3",
      "language": "python",
      "name": "python3"
    },
    "language_info": {
      "codemirror_mode": {
        "name": "ipython",
        "version": 3
      },
      "file_extension": ".py",
      "mimetype": "text/x-python",
      "name": "python",
      "nbconvert_exporter": "python",
      "pygments_lexer": "ipython3",
      "version": "3.7.7"
    },
    "colab": {
      "provenance": []
    }
  },
  "nbformat": 4,
  "nbformat_minor": 5
}