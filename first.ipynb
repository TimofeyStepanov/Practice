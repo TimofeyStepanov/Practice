{
  "cells": [
    {
      "cell_type": "markdown",
      "metadata": {
        "id": "hLXFxmV2OPmv"
      },
      "source": [
        "# 100 numpy exercises\n",
        "\n",
        "This is a collection of exercises that have been collected in the numpy mailing list, on stack overflow\n",
        "and in the numpy documentation. The goal of this collection is to offer a quick reference for both old\n",
        "and new users but also to provide a set of exercises for those who teach.\n",
        "\n",
        "\n",
        "If you find an error or think you've a better way to solve some of them, feel\n",
        "free to open an issue at <https://github.com/rougier/numpy-100>."
      ],
      "id": "hLXFxmV2OPmv"
    },
    {
      "cell_type": "markdown",
      "metadata": {
        "id": "OPZsh7M-OPmx"
      },
      "source": [
        "File automatically generated. See the documentation to update questions/answers/hints programmatically."
      ],
      "id": "OPZsh7M-OPmx"
    },
    {
      "cell_type": "markdown",
      "metadata": {
        "id": "F4LhvuXbOPmy"
      },
      "source": [
        "Run the `initialize.py` module, then for each question you can query the\n",
        "answer or an hint with `hint(n)` or `answer(n)` for `n` question number."
      ],
      "id": "F4LhvuXbOPmy"
    },
    {
      "cell_type": "markdown",
      "metadata": {
        "id": "Gh-Kf5nrOPmz"
      },
      "source": [
        "#### 1. Import the numpy package under the name `np` (★☆☆)"
      ],
      "id": "Gh-Kf5nrOPmz"
    },
    {
      "cell_type": "code",
      "execution_count": 3,
      "metadata": {
        "id": "FNVHmranOPmz"
      },
      "outputs": [],
      "source": [
        "import numpy as np"
      ],
      "id": "FNVHmranOPmz"
    },
    {
      "cell_type": "markdown",
      "metadata": {
        "id": "EATgsLAQOPm0"
      },
      "source": [
        "#### 2. Print the numpy version and the configuration (★☆☆)"
      ],
      "id": "EATgsLAQOPm0"
    },
    {
      "cell_type": "code",
      "execution_count": null,
      "metadata": {
        "colab": {
          "base_uri": "https://localhost:8080/"
        },
        "id": "q7D-R8RhOPm0",
        "outputId": "3810ea1f-6e92-4367-b5ff-1a582f2ea945"
      },
      "outputs": [
        {
          "output_type": "stream",
          "name": "stdout",
          "text": [
            "1.22.4\n",
            "openblas64__info:\n",
            "    libraries = ['openblas64_', 'openblas64_']\n",
            "    library_dirs = ['/usr/local/lib']\n",
            "    language = c\n",
            "    define_macros = [('HAVE_CBLAS', None), ('BLAS_SYMBOL_SUFFIX', '64_'), ('HAVE_BLAS_ILP64', None)]\n",
            "    runtime_library_dirs = ['/usr/local/lib']\n",
            "blas_ilp64_opt_info:\n",
            "    libraries = ['openblas64_', 'openblas64_']\n",
            "    library_dirs = ['/usr/local/lib']\n",
            "    language = c\n",
            "    define_macros = [('HAVE_CBLAS', None), ('BLAS_SYMBOL_SUFFIX', '64_'), ('HAVE_BLAS_ILP64', None)]\n",
            "    runtime_library_dirs = ['/usr/local/lib']\n",
            "openblas64__lapack_info:\n",
            "    libraries = ['openblas64_', 'openblas64_']\n",
            "    library_dirs = ['/usr/local/lib']\n",
            "    language = c\n",
            "    define_macros = [('HAVE_CBLAS', None), ('BLAS_SYMBOL_SUFFIX', '64_'), ('HAVE_BLAS_ILP64', None), ('HAVE_LAPACKE', None)]\n",
            "    runtime_library_dirs = ['/usr/local/lib']\n",
            "lapack_ilp64_opt_info:\n",
            "    libraries = ['openblas64_', 'openblas64_']\n",
            "    library_dirs = ['/usr/local/lib']\n",
            "    language = c\n",
            "    define_macros = [('HAVE_CBLAS', None), ('BLAS_SYMBOL_SUFFIX', '64_'), ('HAVE_BLAS_ILP64', None), ('HAVE_LAPACKE', None)]\n",
            "    runtime_library_dirs = ['/usr/local/lib']\n",
            "Supported SIMD extensions in this NumPy install:\n",
            "    baseline = SSE,SSE2,SSE3\n",
            "    found = SSSE3,SSE41,POPCNT,SSE42,AVX,F16C,FMA3,AVX2\n",
            "    not found = AVX512F,AVX512CD,AVX512_KNL,AVX512_KNM,AVX512_SKX,AVX512_CLX,AVX512_CNL,AVX512_ICL\n"
          ]
        }
      ],
      "source": [
        "print(np.__version__)\n",
        "np.show_config()"
      ],
      "id": "q7D-R8RhOPm0"
    },
    {
      "cell_type": "markdown",
      "metadata": {
        "id": "6YIC_YJnOPm0"
      },
      "source": [
        "#### 3. Create a null vector of size 10 (★☆☆)"
      ],
      "id": "6YIC_YJnOPm0"
    },
    {
      "cell_type": "code",
      "execution_count": null,
      "metadata": {
        "colab": {
          "base_uri": "https://localhost:8080/"
        },
        "id": "O1g1-fMBOPm0",
        "outputId": "b60d4792-6537-41ef-89d8-464f7fb7055e"
      },
      "outputs": [
        {
          "output_type": "stream",
          "name": "stdout",
          "text": [
            "[0. 0. 0. 0. 0. 0. 0. 0. 0. 0.]\n"
          ]
        }
      ],
      "source": [
        "V = np.zeros(10)\n",
        "print(V)"
      ],
      "id": "O1g1-fMBOPm0"
    },
    {
      "cell_type": "markdown",
      "metadata": {
        "id": "tS-tUKGOOPm1"
      },
      "source": [
        "#### 4. How to find the memory size of any array (★☆☆)"
      ],
      "id": "tS-tUKGOOPm1"
    },
    {
      "cell_type": "code",
      "execution_count": null,
      "metadata": {
        "colab": {
          "base_uri": "https://localhost:8080/"
        },
        "id": "F0ihp4oSOPm1",
        "outputId": "c698c119-7a19-4852-84b5-a5aad324a6d9"
      },
      "outputs": [
        {
          "output_type": "stream",
          "name": "stdout",
          "text": [
            "800 bytes\n"
          ]
        }
      ],
      "source": [
        "A = np.zeros((10,10))\n",
        "print(\"%d bytes\" % (A.size*A.itemsize))"
      ],
      "id": "F0ihp4oSOPm1"
    },
    {
      "cell_type": "markdown",
      "metadata": {
        "id": "GUmnapNQOPm1"
      },
      "source": [
        "#### 6. Create a null vector of size 10 but the fifth value which is 1 (★☆☆)"
      ],
      "id": "GUmnapNQOPm1"
    },
    {
      "cell_type": "code",
      "execution_count": null,
      "metadata": {
        "colab": {
          "base_uri": "https://localhost:8080/"
        },
        "id": "FqcfiFv9OPm2",
        "outputId": "8d8af2e0-2b13-4b04-87ce-230248965d6f"
      },
      "outputs": [
        {
          "output_type": "stream",
          "name": "stdout",
          "text": [
            "[0. 0. 0. 0. 1. 0. 0. 0. 0. 0.]\n"
          ]
        }
      ],
      "source": [
        "V = np.zeros(10)\n",
        "V[4] = 1\n",
        "print(V)"
      ],
      "id": "FqcfiFv9OPm2"
    },
    {
      "cell_type": "markdown",
      "metadata": {
        "id": "_CK6cv44OPm2"
      },
      "source": [
        "#### 7. Create a vector with values ranging from 10 to 49 (★☆☆)"
      ],
      "id": "_CK6cv44OPm2"
    },
    {
      "cell_type": "code",
      "execution_count": null,
      "metadata": {
        "colab": {
          "base_uri": "https://localhost:8080/"
        },
        "id": "yERkGAPpOPm2",
        "outputId": "4ec0eeb3-f146-4645-c820-e24d291fb019"
      },
      "outputs": [
        {
          "output_type": "stream",
          "name": "stdout",
          "text": [
            "[10 11 12 13 14 15 16 17 18 19 20 21 22 23 24 25 26 27 28 29 30 31 32 33\n",
            " 34 35 36 37 38 39 40 41 42 43 44 45 46 47 48 49]\n"
          ]
        }
      ],
      "source": [
        "V = np.arange(10,50)\n",
        "print(V)"
      ],
      "id": "yERkGAPpOPm2"
    },
    {
      "cell_type": "markdown",
      "metadata": {
        "id": "AmaqwCg-OPm2"
      },
      "source": [
        "#### 8. Reverse a vector (first element becomes last) (★☆☆)"
      ],
      "id": "AmaqwCg-OPm2"
    },
    {
      "cell_type": "code",
      "execution_count": null,
      "metadata": {
        "colab": {
          "base_uri": "https://localhost:8080/"
        },
        "id": "2EiutoxOOPm2",
        "outputId": "8c39c736-903e-42ff-9944-046538e2829d"
      },
      "outputs": [
        {
          "output_type": "stream",
          "name": "stdout",
          "text": [
            "[49 48 47 46 45 44 43 42 41 40 39 38 37 36 35 34 33 32 31 30 29 28 27 26\n",
            " 25 24 23 22 21 20 19 18 17 16 15 14 13 12 11 10  9  8  7  6  5  4  3  2\n",
            "  1  0]\n"
          ]
        }
      ],
      "source": [
        "V = np.arange(50)\n",
        "V = V[::-1]\n",
        "print(V)"
      ],
      "id": "2EiutoxOOPm2"
    },
    {
      "cell_type": "markdown",
      "metadata": {
        "id": "bJu7_SEUOPm2"
      },
      "source": [
        "#### 9. Create a 3x3 matrix with values ranging from 0 to 8 (★☆☆)"
      ],
      "id": "bJu7_SEUOPm2"
    },
    {
      "cell_type": "code",
      "execution_count": null,
      "metadata": {
        "colab": {
          "base_uri": "https://localhost:8080/"
        },
        "id": "bZpqCMmtOPm3",
        "outputId": "6c7e5dc8-d7af-4cf7-95b3-fb5ace5250b5"
      },
      "outputs": [
        {
          "output_type": "stream",
          "name": "stdout",
          "text": [
            "[[0 1 2]\n",
            " [3 4 5]\n",
            " [6 7 8]]\n"
          ]
        }
      ],
      "source": [
        "V = np.arange(9).reshape(3, 3)\n",
        "print(V)"
      ],
      "id": "bZpqCMmtOPm3"
    },
    {
      "cell_type": "markdown",
      "metadata": {
        "id": "SpGqH9n_OPm3"
      },
      "source": [
        "#### 10. Find indices of non-zero elements from [1,2,0,0,4,0] (★☆☆)"
      ],
      "id": "SpGqH9n_OPm3"
    },
    {
      "cell_type": "code",
      "execution_count": null,
      "metadata": {
        "colab": {
          "base_uri": "https://localhost:8080/"
        },
        "id": "0VvEHTMzOPm3",
        "outputId": "57159274-55af-485d-8959-baa98eca5cc0"
      },
      "outputs": [
        {
          "output_type": "stream",
          "name": "stdout",
          "text": [
            "(array([0, 1, 4]),)\n"
          ]
        }
      ],
      "source": [
        "nz = np.nonzero([1,2,0,0,4,0])\n",
        "print(nz)"
      ],
      "id": "0VvEHTMzOPm3"
    },
    {
      "cell_type": "markdown",
      "metadata": {
        "id": "4TK0xaSZOPm3"
      },
      "source": [
        "#### 11. Create a 3x3 identity matrix (★☆☆)"
      ],
      "id": "4TK0xaSZOPm3"
    },
    {
      "cell_type": "code",
      "execution_count": null,
      "metadata": {
        "colab": {
          "base_uri": "https://localhost:8080/"
        },
        "id": "bOjnBQD2OPm3",
        "outputId": "ada00922-9ea8-41c3-f88b-96bd9e7c4ae9"
      },
      "outputs": [
        {
          "output_type": "stream",
          "name": "stdout",
          "text": [
            "[[1. 0. 0.]\n",
            " [0. 1. 0.]\n",
            " [0. 0. 1.]]\n"
          ]
        }
      ],
      "source": [
        "M = np.eye(3)\n",
        "print(M)"
      ],
      "id": "bOjnBQD2OPm3"
    },
    {
      "cell_type": "markdown",
      "metadata": {
        "id": "6Ydug4omOPm4"
      },
      "source": [
        "#### 12. Create a 3x3x3 array with random values (★☆☆)"
      ],
      "id": "6Ydug4omOPm4"
    },
    {
      "cell_type": "code",
      "execution_count": null,
      "metadata": {
        "colab": {
          "base_uri": "https://localhost:8080/"
        },
        "id": "at_ds3UCOPm4",
        "outputId": "5da886d4-897b-4685-f773-d3bc2380d6c8"
      },
      "outputs": [
        {
          "output_type": "stream",
          "name": "stdout",
          "text": [
            "[[[0.40921946 0.68761565 0.76816684]\n",
            "  [0.60861644 0.9435353  0.0061689 ]\n",
            "  [0.53912713 0.75460104 0.29681179]]\n",
            "\n",
            " [[0.2411019  0.92750668 0.70144523]\n",
            "  [0.5382817  0.57584995 0.3993728 ]\n",
            "  [0.79865521 0.03785511 0.19226958]]\n",
            "\n",
            " [[0.2876144  0.02123335 0.44513634]\n",
            "  [0.08417561 0.68970974 0.59659143]\n",
            "  [0.99990707 0.10991284 0.53315248]]]\n"
          ]
        }
      ],
      "source": [
        "A = np.random.random((3,3,3))\n",
        "print(A)"
      ],
      "id": "at_ds3UCOPm4"
    },
    {
      "cell_type": "markdown",
      "metadata": {
        "id": "nsrTlb-POPm4"
      },
      "source": [
        "#### 13. Create a 10x10 array with random values and find the minimum and maximum values (★☆☆)"
      ],
      "id": "nsrTlb-POPm4"
    },
    {
      "cell_type": "code",
      "execution_count": null,
      "metadata": {
        "colab": {
          "base_uri": "https://localhost:8080/"
        },
        "id": "su2OlQyJOPm4",
        "outputId": "5b0a7d01-ba03-4621-fd5b-10410c92c6ba"
      },
      "outputs": [
        {
          "output_type": "stream",
          "name": "stdout",
          "text": [
            "0.005719805286858226 0.9734879970990543\n"
          ]
        }
      ],
      "source": [
        "Z = np.random.random((10,10))\n",
        "Zmin, Zmax = Z.min(), Z.max()\n",
        "print(Zmin, Zmax)"
      ],
      "id": "su2OlQyJOPm4"
    },
    {
      "cell_type": "markdown",
      "metadata": {
        "id": "TkH-IIacOPm4"
      },
      "source": [
        "#### 14. Create a random vector of size 30 and find the mean value (★☆☆)"
      ],
      "id": "TkH-IIacOPm4"
    },
    {
      "cell_type": "code",
      "execution_count": null,
      "metadata": {
        "colab": {
          "base_uri": "https://localhost:8080/"
        },
        "id": "2z-_m282OPm4",
        "outputId": "8b013f4a-da7e-4384-a4c4-ac76abc39430"
      },
      "outputs": [
        {
          "output_type": "stream",
          "name": "stdout",
          "text": [
            "0.5125483955961383\n"
          ]
        }
      ],
      "source": [
        "V = np.random.random(30)\n",
        "m = V.mean()\n",
        "print(m)"
      ],
      "id": "2z-_m282OPm4"
    },
    {
      "cell_type": "markdown",
      "metadata": {
        "id": "Drp0ctz0OPm5"
      },
      "source": [
        "#### 15. Create a 2d array with 1 on the border and 0 inside (★☆☆)"
      ],
      "id": "Drp0ctz0OPm5"
    },
    {
      "cell_type": "code",
      "execution_count": null,
      "metadata": {
        "colab": {
          "base_uri": "https://localhost:8080/"
        },
        "id": "GhFoPTDgOPm5",
        "outputId": "904a2d95-24ac-4c65-e9b2-568f3f7776d4"
      },
      "outputs": [
        {
          "output_type": "stream",
          "name": "stdout",
          "text": [
            "[[1. 1. 1. 1. 1. 1. 1. 1. 1. 1.]\n",
            " [1. 0. 0. 0. 0. 0. 0. 0. 0. 1.]\n",
            " [1. 0. 0. 0. 0. 0. 0. 0. 0. 1.]\n",
            " [1. 0. 0. 0. 0. 0. 0. 0. 0. 1.]\n",
            " [1. 0. 0. 0. 0. 0. 0. 0. 0. 1.]\n",
            " [1. 0. 0. 0. 0. 0. 0. 0. 0. 1.]\n",
            " [1. 0. 0. 0. 0. 0. 0. 0. 0. 1.]\n",
            " [1. 0. 0. 0. 0. 0. 0. 0. 0. 1.]\n",
            " [1. 0. 0. 0. 0. 0. 0. 0. 0. 1.]\n",
            " [1. 1. 1. 1. 1. 1. 1. 1. 1. 1.]]\n"
          ]
        }
      ],
      "source": [
        "A = np.ones((10,10))\n",
        "A[1:-1,1:-1] = 0\n",
        "print(A)"
      ],
      "id": "GhFoPTDgOPm5"
    },
    {
      "cell_type": "markdown",
      "metadata": {
        "id": "imaxH4XEOPm5"
      },
      "source": [
        "#### 16. How to add a border (filled with 0's) around an existing array? (★☆☆)"
      ],
      "id": "imaxH4XEOPm5"
    },
    {
      "cell_type": "code",
      "execution_count": null,
      "metadata": {
        "colab": {
          "base_uri": "https://localhost:8080/"
        },
        "id": "SyGIDDjVOPm5",
        "outputId": "2bdc94e8-39d0-4137-f0a8-56cbbc3f5017"
      },
      "outputs": [
        {
          "output_type": "stream",
          "name": "stdout",
          "text": [
            "[[0. 0. 0. 0. 0. 0. 0.]\n",
            " [0. 1. 1. 1. 1. 1. 0.]\n",
            " [0. 1. 1. 1. 1. 1. 0.]\n",
            " [0. 1. 1. 1. 1. 1. 0.]\n",
            " [0. 1. 1. 1. 1. 1. 0.]\n",
            " [0. 1. 1. 1. 1. 1. 0.]\n",
            " [0. 0. 0. 0. 0. 0. 0.]]\n"
          ]
        }
      ],
      "source": [
        "Z = np.ones((5,5))\n",
        "Z = np.pad(Z, pad_width=1, mode='constant', constant_values=0)\n",
        "print(Z)"
      ],
      "id": "SyGIDDjVOPm5"
    },
    {
      "cell_type": "markdown",
      "metadata": {
        "id": "5UDr-KU1OPm5"
      },
      "source": [
        "#### 17. What is the result of the following expression? (★☆☆)\n",
        "```python\n",
        "0 * np.nan\n",
        "np.nan == np.nan\n",
        "np.inf > np.nan\n",
        "np.nan - np.nan\n",
        "np.nan in set([np.nan])\n",
        "0.3 == 3 * 0.1\n",
        "```"
      ],
      "id": "5UDr-KU1OPm5"
    },
    {
      "cell_type": "code",
      "execution_count": null,
      "metadata": {
        "colab": {
          "base_uri": "https://localhost:8080/"
        },
        "id": "sy7ZGtmSOPm5",
        "outputId": "5e6ce866-d6dc-44c8-f3d5-ba4926de5b38"
      },
      "outputs": [
        {
          "output_type": "stream",
          "name": "stdout",
          "text": [
            "nan\n",
            "False\n",
            "False\n",
            "nan\n",
            "True\n",
            "False\n"
          ]
        }
      ],
      "source": [
        "print(0 * np.nan)\n",
        "print(np.nan == np.nan)\n",
        "print(np.inf > np.nan)\n",
        "print(np.nan - np.nan)\n",
        "print(np.nan in set([np.nan]))\n",
        "print(0.3 == 3 * 0.1)"
      ],
      "id": "sy7ZGtmSOPm5"
    },
    {
      "cell_type": "markdown",
      "metadata": {
        "id": "7YEnpmWqOPm6"
      },
      "source": [
        "#### 18. Create a 5x5 matrix with values 1,2,3,4 just below the diagonal (★☆☆)"
      ],
      "id": "7YEnpmWqOPm6"
    },
    {
      "cell_type": "code",
      "execution_count": null,
      "metadata": {
        "colab": {
          "base_uri": "https://localhost:8080/"
        },
        "id": "8RNc4eCrOPm6",
        "outputId": "675d3a1e-c72f-4cc9-e648-53828e988e96"
      },
      "outputs": [
        {
          "output_type": "stream",
          "name": "stdout",
          "text": [
            "[[0 0 0 0 0]\n",
            " [1 0 0 0 0]\n",
            " [0 2 0 0 0]\n",
            " [0 0 3 0 0]\n",
            " [0 0 0 4 0]]\n"
          ]
        }
      ],
      "source": [
        "Z = np.diag(1+np.arange(4),k=-1)\n",
        "print(Z)"
      ],
      "id": "8RNc4eCrOPm6"
    },
    {
      "cell_type": "markdown",
      "metadata": {
        "id": "2fKzNgM0OPm6"
      },
      "source": [
        "#### 19. Create a 8x8 matrix and fill it with a checkerboard pattern (★☆☆)"
      ],
      "id": "2fKzNgM0OPm6"
    },
    {
      "cell_type": "code",
      "execution_count": null,
      "metadata": {
        "colab": {
          "base_uri": "https://localhost:8080/"
        },
        "id": "XEnAqwHsOPm6",
        "outputId": "6b534c52-f249-4eef-a1e9-40fb1efe3e8c"
      },
      "outputs": [
        {
          "output_type": "stream",
          "name": "stdout",
          "text": [
            "[[0 1 0 1 0 1 0 1]\n",
            " [1 0 1 0 1 0 1 0]\n",
            " [0 1 0 1 0 1 0 1]\n",
            " [1 0 1 0 1 0 1 0]\n",
            " [0 1 0 1 0 1 0 1]\n",
            " [1 0 1 0 1 0 1 0]\n",
            " [0 1 0 1 0 1 0 1]\n",
            " [1 0 1 0 1 0 1 0]]\n"
          ]
        }
      ],
      "source": [
        "Z = np.zeros((8,8),dtype=int)\n",
        "Z[1::2,::2] = 1\n",
        "Z[::2,1::2] = 1\n",
        "print(Z)"
      ],
      "id": "XEnAqwHsOPm6"
    },
    {
      "cell_type": "markdown",
      "metadata": {
        "id": "ufKJxVFHOPm6"
      },
      "source": [
        "#### 20. Consider a (6,7,8) shape array, what is the index (x,y,z) of the 100th element? (★☆☆)"
      ],
      "id": "ufKJxVFHOPm6"
    },
    {
      "cell_type": "code",
      "execution_count": null,
      "metadata": {
        "colab": {
          "base_uri": "https://localhost:8080/"
        },
        "id": "sUiE2qXnOPm6",
        "outputId": "7362039a-2523-451b-bb41-729dc9d35a54"
      },
      "outputs": [
        {
          "output_type": "stream",
          "name": "stdout",
          "text": [
            "(1, 5, 3)\n"
          ]
        }
      ],
      "source": [
        "print(np.unravel_index(99,(6,7,8)))"
      ],
      "id": "sUiE2qXnOPm6"
    },
    {
      "cell_type": "markdown",
      "metadata": {
        "id": "Etb4f-ACOPm7"
      },
      "source": [
        "#### 21. Create a checkerboard 8x8 matrix using the tile function (★☆☆)"
      ],
      "id": "Etb4f-ACOPm7"
    },
    {
      "cell_type": "code",
      "execution_count": null,
      "metadata": {
        "colab": {
          "base_uri": "https://localhost:8080/"
        },
        "id": "jjUO7P6NOPm7",
        "outputId": "f1cac50f-e6d3-4238-d0f4-e07925c765d7"
      },
      "outputs": [
        {
          "output_type": "stream",
          "name": "stdout",
          "text": [
            "[[0 1 0 1 0 1 0 1]\n",
            " [1 0 1 0 1 0 1 0]\n",
            " [0 1 0 1 0 1 0 1]\n",
            " [1 0 1 0 1 0 1 0]\n",
            " [0 1 0 1 0 1 0 1]\n",
            " [1 0 1 0 1 0 1 0]\n",
            " [0 1 0 1 0 1 0 1]\n",
            " [1 0 1 0 1 0 1 0]]\n"
          ]
        }
      ],
      "source": [
        "C = np.tile( np.array([[0,1],[1,0]]), (4,4))\n",
        "print(C)"
      ],
      "id": "jjUO7P6NOPm7"
    },
    {
      "cell_type": "markdown",
      "metadata": {
        "id": "BbUUfGCcOPm7"
      },
      "source": [
        "#### 22. Normalize a 5x5 random matrix (★☆☆)"
      ],
      "id": "BbUUfGCcOPm7"
    },
    {
      "cell_type": "code",
      "execution_count": null,
      "metadata": {
        "colab": {
          "base_uri": "https://localhost:8080/"
        },
        "id": "cnhlozgBOPm7",
        "outputId": "3f02213f-6275-498e-cea1-e239a23130ad"
      },
      "outputs": [
        {
          "output_type": "stream",
          "name": "stdout",
          "text": [
            "[[-0.35247351  0.79718195 -0.58970152 -0.34944911 -1.84646918]\n",
            " [ 1.03721462  1.3103427  -0.35593793 -1.4821798   0.44912977]\n",
            " [-1.42363372  0.21772377 -1.02573199 -1.44542775  1.39101498]\n",
            " [ 0.62843214  0.92571975 -0.08682308  0.96242216 -1.31423714]\n",
            " [ 1.07650998  0.28496403  1.29053342 -0.7806784   0.68155387]]\n"
          ]
        }
      ],
      "source": [
        "Z = np.random.random((5,5))\n",
        "Z = (Z - np.mean (Z)) / (np.std (Z))\n",
        "print(Z)"
      ],
      "id": "cnhlozgBOPm7"
    },
    {
      "cell_type": "markdown",
      "metadata": {
        "id": "R65tLc1_OPm7"
      },
      "source": [
        "#### 23. Create a custom dtype that describes a color as four unsigned bytes (RGBA) (★☆☆)"
      ],
      "id": "R65tLc1_OPm7"
    },
    {
      "cell_type": "code",
      "execution_count": null,
      "metadata": {
        "id": "vRQGT3ZFOPm7"
      },
      "outputs": [],
      "source": [
        "color = np.dtype([(\"r\", np.ubyte),\n",
        "                  (\"g\", np.ubyte),\n",
        "                  (\"b\", np.ubyte),\n",
        "                  (\"a\", np.ubyte)])"
      ],
      "id": "vRQGT3ZFOPm7"
    },
    {
      "cell_type": "markdown",
      "metadata": {
        "id": "citLuDiBOPm7"
      },
      "source": [
        "#### 24. Multiply a 5x3 matrix by a 3x2 matrix (real matrix product) (★☆☆)"
      ],
      "id": "citLuDiBOPm7"
    },
    {
      "cell_type": "code",
      "execution_count": null,
      "metadata": {
        "colab": {
          "base_uri": "https://localhost:8080/"
        },
        "id": "e-I_bRGBOPm8",
        "outputId": "3e81a23c-5572-4b84-b79e-10d1fff37b41"
      },
      "outputs": [
        {
          "output_type": "stream",
          "name": "stdout",
          "text": [
            "[[3. 3.]\n",
            " [3. 3.]\n",
            " [3. 3.]\n",
            " [3. 3.]\n",
            " [3. 3.]]\n"
          ]
        }
      ],
      "source": [
        "Z = np.dot(np.ones((5,3)), np.ones((3,2)))\n",
        "print(Z)"
      ],
      "id": "e-I_bRGBOPm8"
    },
    {
      "cell_type": "markdown",
      "metadata": {
        "id": "pysL5KbAOPm8"
      },
      "source": [
        "#### 25. Given a 1D array, negate all elements which are between 3 and 8, in place. (★☆☆)"
      ],
      "id": "pysL5KbAOPm8"
    },
    {
      "cell_type": "code",
      "execution_count": null,
      "metadata": {
        "colab": {
          "base_uri": "https://localhost:8080/"
        },
        "id": "_QI3cLswOPm8",
        "outputId": "3f74b6b3-e5df-45e3-b4e5-73961a5ef0a7"
      },
      "outputs": [
        {
          "output_type": "stream",
          "name": "stdout",
          "text": [
            "[ 0  1  2  3 -4 -5 -6 -7  8  9 10]\n"
          ]
        }
      ],
      "source": [
        "Z = np.arange(11)\n",
        "Z[(3 < Z) & (Z < 8)] *= -1\n",
        "print(Z)"
      ],
      "id": "_QI3cLswOPm8"
    },
    {
      "cell_type": "markdown",
      "metadata": {
        "id": "ziHphttSOPm8"
      },
      "source": [
        "#### 26. What is the output of the following script? (★☆☆)\n",
        "```python\n",
        "print(sum(range(5),-1))\n",
        "from numpy import *\n",
        "print(sum(range(5),-1))\n",
        "```"
      ],
      "id": "ziHphttSOPm8"
    },
    {
      "cell_type": "code",
      "execution_count": null,
      "metadata": {
        "colab": {
          "base_uri": "https://localhost:8080/"
        },
        "id": "J0QaS52oOPm8",
        "outputId": "752fcd3a-bfaf-4af4-a53d-30e4e80cf316"
      },
      "outputs": [
        {
          "output_type": "stream",
          "name": "stdout",
          "text": [
            "10\n",
            "10\n"
          ]
        }
      ],
      "source": [
        "print(sum(range(5),-1))\n",
        "from numpy import *\n",
        "print(sum(range(5),-1))"
      ],
      "id": "J0QaS52oOPm8"
    },
    {
      "cell_type": "markdown",
      "metadata": {
        "id": "4PK-gg-jOPm8"
      },
      "source": [
        "#### 27. Consider an integer vector Z, which of these expressions are legal? (★☆☆)\n",
        "```python\n",
        "Z**Z\n",
        "2 << Z >> 2\n",
        "Z <- Z\n",
        "1j*Z\n",
        "Z/1/1\n",
        "Z<Z>Z\n",
        "```"
      ],
      "id": "4PK-gg-jOPm8"
    },
    {
      "cell_type": "code",
      "execution_count": null,
      "metadata": {
        "colab": {
          "base_uri": "https://localhost:8080/"
        },
        "id": "YTNm7pV_OPm8",
        "outputId": "62bb53b8-211d-41c0-cce1-665294626cbb"
      },
      "outputs": [
        {
          "output_type": "execute_result",
          "data": {
            "text/plain": [
              "array([ 0.,  1.,  2.,  3.,  4.,  5.,  6.,  7.,  8.,  9., 10.])"
            ]
          },
          "metadata": {},
          "execution_count": 35
        }
      ],
      "source": [
        "Z = np.arange(11)\n",
        "Z**Z\n",
        "2 << Z >> 2\n",
        "Z <- Z\n",
        "1j*Z\n",
        "Z/1/1"
      ],
      "id": "YTNm7pV_OPm8"
    },
    {
      "cell_type": "markdown",
      "metadata": {
        "id": "_xZtYNEOOPm9"
      },
      "source": [
        "#### 28. What are the result of the following expressions? (★☆☆)\n",
        "```python\n",
        "np.array(0) / np.array(0)\n",
        "np.array(0) // np.array(0)\n",
        "np.array([np.nan]).astype(int).astype(float)\n",
        "```"
      ],
      "id": "_xZtYNEOOPm9"
    },
    {
      "cell_type": "code",
      "execution_count": null,
      "metadata": {
        "colab": {
          "base_uri": "https://localhost:8080/"
        },
        "id": "cV8FyXFhOPm9",
        "outputId": "c6c9f30f-e99a-4328-d4de-ebdcae89a8be"
      },
      "outputs": [
        {
          "output_type": "stream",
          "name": "stdout",
          "text": [
            "nan\n",
            "0\n",
            "[-9.22337204e+18]\n"
          ]
        },
        {
          "output_type": "stream",
          "name": "stderr",
          "text": [
            "<ipython-input-36-2a10de0ee61b>:1: RuntimeWarning: invalid value encountered in true_divide\n",
            "  print(np.array(0) / np.array(0))\n",
            "<ipython-input-36-2a10de0ee61b>:2: RuntimeWarning: divide by zero encountered in floor_divide\n",
            "  print(np.array(0) // np.array(0))\n"
          ]
        }
      ],
      "source": [
        "print(np.array(0) / np.array(0))\n",
        "print(np.array(0) // np.array(0))\n",
        "print(np.array([np.nan]).astype(int).astype(float))"
      ],
      "id": "cV8FyXFhOPm9"
    },
    {
      "cell_type": "markdown",
      "metadata": {
        "id": "vhuiE0yQOPm9"
      },
      "source": [
        "#### 29. How to round away from zero a float array ? (★☆☆)"
      ],
      "id": "vhuiE0yQOPm9"
    },
    {
      "cell_type": "code",
      "execution_count": null,
      "metadata": {
        "colab": {
          "base_uri": "https://localhost:8080/"
        },
        "id": "Aj8MGFILOPm9",
        "outputId": "a99843a9-77b5-4ef7-ac8a-e3b4e9f5bb16"
      },
      "outputs": [
        {
          "output_type": "stream",
          "name": "stdout",
          "text": [
            "[ -1.   8.  -8.   2.  -2.  -7. -10.   5.   2.  -5.]\n"
          ]
        }
      ],
      "source": [
        "Z = np.random.uniform(-10,+10,10)\n",
        "print (np.copysign(np.ceil(np.abs(Z)), Z))"
      ],
      "id": "Aj8MGFILOPm9"
    },
    {
      "cell_type": "markdown",
      "metadata": {
        "id": "0XhF1auPOPm9"
      },
      "source": [
        "#### 30. How to find common values between two arrays? (★☆☆)"
      ],
      "id": "0XhF1auPOPm9"
    },
    {
      "cell_type": "code",
      "execution_count": null,
      "metadata": {
        "colab": {
          "base_uri": "https://localhost:8080/"
        },
        "id": "YbxUnaIPOPm9",
        "outputId": "dcfcc5e0-3fbf-43ca-aef5-31689a635fa1"
      },
      "outputs": [
        {
          "output_type": "stream",
          "name": "stdout",
          "text": [
            "[0 2 3 4 5 6]\n"
          ]
        }
      ],
      "source": [
        "Z1 = np.random.randint(0,10,10)\n",
        "Z2 = np.random.randint(0,10,10)\n",
        "print(np.intersect1d(Z1,Z2))"
      ],
      "id": "YbxUnaIPOPm9"
    },
    {
      "cell_type": "markdown",
      "metadata": {
        "id": "nfWveB9XOPm-"
      },
      "source": [
        "#### 31. How to ignore all numpy warnings (not recommended)? (★☆☆)"
      ],
      "id": "nfWveB9XOPm-"
    },
    {
      "cell_type": "code",
      "execution_count": null,
      "metadata": {
        "id": "jWKIdhgOOPm-"
      },
      "outputs": [],
      "source": [
        "with np.errstate(divide='ignore'):\n",
        "    Z = np.ones(1) / 0"
      ],
      "id": "jWKIdhgOOPm-"
    },
    {
      "cell_type": "markdown",
      "metadata": {
        "id": "pTAf921wOPm-"
      },
      "source": [
        "#### 32. Is the following expressions true? (★☆☆)\n",
        "```python\n",
        "np.sqrt(-1) == np.emath.sqrt(-1)\n",
        "```"
      ],
      "id": "pTAf921wOPm-"
    },
    {
      "cell_type": "code",
      "execution_count": null,
      "metadata": {
        "colab": {
          "base_uri": "https://localhost:8080/"
        },
        "id": "EGaSSw8bOPm-",
        "outputId": "343836d5-ec2a-4fdc-e2c8-00f77c82ec32"
      },
      "outputs": [
        {
          "output_type": "stream",
          "name": "stderr",
          "text": [
            "<ipython-input-40-16339fbc685e>:1: RuntimeWarning: invalid value encountered in sqrt\n",
            "  np.sqrt(-1) == np.emath.sqrt(-1)\n"
          ]
        },
        {
          "output_type": "execute_result",
          "data": {
            "text/plain": [
              "False"
            ]
          },
          "metadata": {},
          "execution_count": 40
        }
      ],
      "source": [
        "np.sqrt(-1) == np.emath.sqrt(-1)"
      ],
      "id": "EGaSSw8bOPm-"
    },
    {
      "cell_type": "markdown",
      "metadata": {
        "id": "rAKG2esKOPm-"
      },
      "source": [
        "#### 33. How to get the dates of yesterday, today and tomorrow? (★☆☆)"
      ],
      "id": "rAKG2esKOPm-"
    },
    {
      "cell_type": "code",
      "execution_count": null,
      "metadata": {
        "id": "Hnb1dP52OPm-"
      },
      "outputs": [],
      "source": [
        "yesterday = np.datetime64('today', 'D') - np.timedelta64(1, 'D')\n",
        "today = np.datetime64('today', 'D')\n",
        "tomorrow = np.datetime64('today', 'D') + np.timedelta64(1, 'D')"
      ],
      "id": "Hnb1dP52OPm-"
    },
    {
      "cell_type": "markdown",
      "metadata": {
        "id": "bPdtRr5FOPm-"
      },
      "source": [
        "#### 34. How to get all the dates corresponding to the month of July 2016? (★★☆)"
      ],
      "id": "bPdtRr5FOPm-"
    },
    {
      "cell_type": "code",
      "execution_count": null,
      "metadata": {
        "colab": {
          "base_uri": "https://localhost:8080/"
        },
        "id": "bqropAkGOPm-",
        "outputId": "b34a3cf4-da04-4c4e-8f5a-7f31411433f9"
      },
      "outputs": [
        {
          "output_type": "stream",
          "name": "stdout",
          "text": [
            "['2016-07-01' '2016-07-02' '2016-07-03' '2016-07-04' '2016-07-05'\n",
            " '2016-07-06' '2016-07-07' '2016-07-08' '2016-07-09' '2016-07-10'\n",
            " '2016-07-11' '2016-07-12' '2016-07-13' '2016-07-14' '2016-07-15'\n",
            " '2016-07-16' '2016-07-17' '2016-07-18' '2016-07-19' '2016-07-20'\n",
            " '2016-07-21' '2016-07-22' '2016-07-23' '2016-07-24' '2016-07-25'\n",
            " '2016-07-26' '2016-07-27' '2016-07-28' '2016-07-29' '2016-07-30'\n",
            " '2016-07-31']\n"
          ]
        }
      ],
      "source": [
        "Z = np.arange('2016-07', '2016-08', dtype='datetime64[D]')\n",
        "print(Z)"
      ],
      "id": "bqropAkGOPm-"
    },
    {
      "cell_type": "markdown",
      "metadata": {
        "id": "ChnU4c3QOPm_"
      },
      "source": [
        "#### 35. How to compute ((A+B)*(-A/2)) in place (without copy)? (★★☆)"
      ],
      "id": "ChnU4c3QOPm_"
    },
    {
      "cell_type": "code",
      "execution_count": null,
      "metadata": {
        "colab": {
          "base_uri": "https://localhost:8080/"
        },
        "id": "2gs0nYXNOPm_",
        "outputId": "38e57d8e-da19-438c-d4b5-34ef56ee71f1"
      },
      "outputs": [
        {
          "output_type": "execute_result",
          "data": {
            "text/plain": [
              "array([-1.5, -1.5, -1.5])"
            ]
          },
          "metadata": {},
          "execution_count": 43
        }
      ],
      "source": [
        "A = np.ones(3)*1\n",
        "B = np.ones(3)*2\n",
        "C = np.ones(3)*3\n",
        "np.add(A,B,out=B)\n",
        "np.divide(A,2,out=A)\n",
        "np.negative(A,out=A)\n",
        "np.multiply(A,B,out=A)"
      ],
      "id": "2gs0nYXNOPm_"
    },
    {
      "cell_type": "markdown",
      "metadata": {
        "id": "IeHf78rFOPm_"
      },
      "source": [
        "#### 36. Extract the integer part of a random array of positive numbers using 4 different methods (★★☆)"
      ],
      "id": "IeHf78rFOPm_"
    },
    {
      "cell_type": "code",
      "execution_count": null,
      "metadata": {
        "colab": {
          "base_uri": "https://localhost:8080/"
        },
        "id": "VdZT5JIaOPm_",
        "outputId": "3e37bc76-e1d9-43f8-99cd-ac0e43006772"
      },
      "outputs": [
        {
          "output_type": "stream",
          "name": "stdout",
          "text": [
            "[3. 2. 8. 7. 4. 6. 3. 8. 7. 5.]\n",
            "[3. 2. 8. 7. 4. 6. 3. 8. 7. 5.]\n",
            "[3. 2. 8. 7. 4. 6. 3. 8. 7. 5.]\n",
            "[3 2 8 7 4 6 3 8 7 5]\n",
            "[3. 2. 8. 7. 4. 6. 3. 8. 7. 5.]\n"
          ]
        }
      ],
      "source": [
        "Z = np.random.uniform(0,10,10)\n",
        "\n",
        "print (Z - Z%1)\n",
        "print (np.floor(Z))\n",
        "print (np.ceil(Z)-1)\n",
        "print (Z.astype(int))\n",
        "print (np.trunc(Z))"
      ],
      "id": "VdZT5JIaOPm_"
    },
    {
      "cell_type": "markdown",
      "metadata": {
        "id": "jn2jHIuDOPm_"
      },
      "source": [
        "#### 37. Create a 5x5 matrix with row values ranging from 0 to 4 (★★☆)"
      ],
      "id": "jn2jHIuDOPm_"
    },
    {
      "cell_type": "code",
      "execution_count": null,
      "metadata": {
        "colab": {
          "base_uri": "https://localhost:8080/"
        },
        "id": "SuI-BJCQOPm_",
        "outputId": "77581252-68ae-4209-94e2-56472d821007"
      },
      "outputs": [
        {
          "output_type": "stream",
          "name": "stdout",
          "text": [
            "[[0. 1. 2. 3. 4.]\n",
            " [0. 1. 2. 3. 4.]\n",
            " [0. 1. 2. 3. 4.]\n",
            " [0. 1. 2. 3. 4.]\n",
            " [0. 1. 2. 3. 4.]]\n"
          ]
        }
      ],
      "source": [
        "Z = np.zeros((5,5))\n",
        "Z += np.arange(5)\n",
        "print(Z)"
      ],
      "id": "SuI-BJCQOPm_"
    },
    {
      "cell_type": "markdown",
      "metadata": {
        "id": "0PivhmuGOPm_"
      },
      "source": [
        "#### 38. Consider a generator function that generates 10 integers and use it to build an array (★☆☆)"
      ],
      "id": "0PivhmuGOPm_"
    },
    {
      "cell_type": "code",
      "execution_count": null,
      "metadata": {
        "colab": {
          "base_uri": "https://localhost:8080/"
        },
        "id": "yWyT9sTEOPnA",
        "outputId": "7eac2b26-a023-4c3d-ee0b-cd746d56d634"
      },
      "outputs": [
        {
          "output_type": "stream",
          "name": "stdout",
          "text": [
            "[0. 1. 2. 3. 4. 5. 6. 7. 8. 9.]\n"
          ]
        }
      ],
      "source": [
        "def generate():\n",
        "    for x in range(10):\n",
        "        yield x\n",
        "Z = np.fromiter(generate(),dtype=float,count=-1)\n",
        "print(Z)"
      ],
      "id": "yWyT9sTEOPnA"
    },
    {
      "cell_type": "markdown",
      "metadata": {
        "id": "D9OBtVRzOPnA"
      },
      "source": [
        "#### 39. Create a vector of size 10 with values ranging from 0 to 1, both excluded (★★☆)"
      ],
      "id": "D9OBtVRzOPnA"
    },
    {
      "cell_type": "code",
      "execution_count": null,
      "metadata": {
        "colab": {
          "base_uri": "https://localhost:8080/"
        },
        "id": "8gt-sktIOPnA",
        "outputId": "596c47eb-3e69-4aa3-9596-cae0f6b3c06a"
      },
      "outputs": [
        {
          "output_type": "stream",
          "name": "stdout",
          "text": [
            "[0.09090909 0.18181818 0.27272727 0.36363636 0.45454545 0.54545455\n",
            " 0.63636364 0.72727273 0.81818182 0.90909091]\n"
          ]
        }
      ],
      "source": [
        "Z = np.linspace(0,1,11,endpoint=False)[1:]\n",
        "print(Z)"
      ],
      "id": "8gt-sktIOPnA"
    },
    {
      "cell_type": "markdown",
      "metadata": {
        "id": "ElRNossdOPnA"
      },
      "source": [
        "#### 40. Create a random vector of size 10 and sort it (★★☆)"
      ],
      "id": "ElRNossdOPnA"
    },
    {
      "cell_type": "code",
      "execution_count": null,
      "metadata": {
        "colab": {
          "base_uri": "https://localhost:8080/"
        },
        "id": "eKkcMbCgOPnA",
        "outputId": "97ccd9db-8961-4ee0-f441-752b01fd5aea"
      },
      "outputs": [
        {
          "output_type": "stream",
          "name": "stdout",
          "text": [
            "[0.23793161 0.30655006 0.35161641 0.38940776 0.78572743 0.79850939\n",
            " 0.8285089  0.84319049 0.89337526 0.89464106]\n"
          ]
        }
      ],
      "source": [
        "Z = np.random.random(10)\n",
        "Z.sort()\n",
        "print(Z)"
      ],
      "id": "eKkcMbCgOPnA"
    },
    {
      "cell_type": "markdown",
      "metadata": {
        "id": "du-9DhdjOPnA"
      },
      "source": [
        "#### 41. How to sum a small array faster than np.sum? (★★☆)"
      ],
      "id": "du-9DhdjOPnA"
    },
    {
      "cell_type": "code",
      "execution_count": null,
      "metadata": {
        "colab": {
          "base_uri": "https://localhost:8080/"
        },
        "id": "ag3WgcrrOPnA",
        "outputId": "77595249-1b17-42e1-8dcd-a0d6df58c06f"
      },
      "outputs": [
        {
          "output_type": "execute_result",
          "data": {
            "text/plain": [
              "45"
            ]
          },
          "metadata": {},
          "execution_count": 49
        }
      ],
      "source": [
        "Z = np.arange(10)\n",
        "np.add.reduce(Z)"
      ],
      "id": "ag3WgcrrOPnA"
    },
    {
      "cell_type": "markdown",
      "metadata": {
        "id": "UCcFcIqQOPnB"
      },
      "source": [
        "#### 42. Consider two random array A and B, check if they are equal (★★☆)"
      ],
      "id": "UCcFcIqQOPnB"
    },
    {
      "cell_type": "code",
      "execution_count": null,
      "metadata": {
        "colab": {
          "base_uri": "https://localhost:8080/"
        },
        "id": "dZrNQpUxOPnB",
        "outputId": "dfa344f4-3bef-4d71-9cd8-d2683d7d455c"
      },
      "outputs": [
        {
          "output_type": "stream",
          "name": "stdout",
          "text": [
            "False\n"
          ]
        }
      ],
      "source": [
        "A = np.random.randint(0,2,5)\n",
        "B = np.random.randint(0,2,5)\n",
        "print(np.array_equal(A,B))"
      ],
      "id": "dZrNQpUxOPnB"
    },
    {
      "cell_type": "markdown",
      "metadata": {
        "id": "Jx8ogqCfOPnB"
      },
      "source": [
        "#### 43. Make an array immutable (read-only) (★★☆)"
      ],
      "id": "Jx8ogqCfOPnB"
    },
    {
      "cell_type": "code",
      "execution_count": null,
      "metadata": {
        "colab": {
          "base_uri": "https://localhost:8080/",
          "height": 200
        },
        "id": "wa6OSGW7OPnB",
        "outputId": "5d72651f-1101-4f6b-913d-4dab86cffbd4"
      },
      "outputs": [
        {
          "output_type": "error",
          "ename": "ValueError",
          "evalue": "ignored",
          "traceback": [
            "\u001b[0;31m---------------------------------------------------------------------------\u001b[0m",
            "\u001b[0;31mValueError\u001b[0m                                Traceback (most recent call last)",
            "\u001b[0;32m<ipython-input-51-dcc5e7f145b5>\u001b[0m in \u001b[0;36m<cell line: 3>\u001b[0;34m()\u001b[0m\n\u001b[1;32m      1\u001b[0m \u001b[0mZ\u001b[0m \u001b[0;34m=\u001b[0m \u001b[0mnp\u001b[0m\u001b[0;34m.\u001b[0m\u001b[0mzeros\u001b[0m\u001b[0;34m(\u001b[0m\u001b[0;36m10\u001b[0m\u001b[0;34m)\u001b[0m\u001b[0;34m\u001b[0m\u001b[0;34m\u001b[0m\u001b[0m\n\u001b[1;32m      2\u001b[0m \u001b[0mZ\u001b[0m\u001b[0;34m.\u001b[0m\u001b[0mflags\u001b[0m\u001b[0;34m.\u001b[0m\u001b[0mwriteable\u001b[0m \u001b[0;34m=\u001b[0m \u001b[0;32mFalse\u001b[0m\u001b[0;34m\u001b[0m\u001b[0;34m\u001b[0m\u001b[0m\n\u001b[0;32m----> 3\u001b[0;31m \u001b[0mZ\u001b[0m\u001b[0;34m[\u001b[0m\u001b[0;36m0\u001b[0m\u001b[0;34m]\u001b[0m \u001b[0;34m=\u001b[0m \u001b[0;36m1\u001b[0m\u001b[0;34m\u001b[0m\u001b[0;34m\u001b[0m\u001b[0m\n\u001b[0m",
            "\u001b[0;31mValueError\u001b[0m: assignment destination is read-only"
          ]
        }
      ],
      "source": [
        "Z = np.zeros(10)\n",
        "Z.flags.writeable = False\n",
        "Z[0] = 1"
      ],
      "id": "wa6OSGW7OPnB"
    },
    {
      "cell_type": "markdown",
      "metadata": {
        "id": "DQ2VHFRnOPnB"
      },
      "source": [
        "#### 44. Consider a random 10x2 matrix representing cartesian coordinates, convert them to polar coordinates (★★☆)"
      ],
      "id": "DQ2VHFRnOPnB"
    },
    {
      "cell_type": "code",
      "execution_count": null,
      "metadata": {
        "colab": {
          "base_uri": "https://localhost:8080/"
        },
        "id": "FM8S3WwTOPnB",
        "outputId": "8510c968-487c-4a4d-e770-825b3e751a99"
      },
      "outputs": [
        {
          "output_type": "stream",
          "name": "stdout",
          "text": [
            "[1.02428449 0.95941441 0.35507515 0.43107864 0.54691506 0.52265889\n",
            " 1.19039469 0.96058946 0.87479824 0.86161265]\n",
            "[0.64038333 1.29385381 1.21842137 0.78850736 1.48609534 0.27570195\n",
            " 0.90514416 1.03381157 0.60984181 0.01541483]\n"
          ]
        }
      ],
      "source": [
        "Z = np.random.random((10,2))\n",
        "X,Y = Z[:,0], Z[:,1]\n",
        "R = np.sqrt(X**2+Y**2)\n",
        "T = np.arctan2(Y,X)\n",
        "print(R)\n",
        "print(T)"
      ],
      "id": "FM8S3WwTOPnB"
    },
    {
      "cell_type": "markdown",
      "metadata": {
        "id": "oJTBRYsaOPnB"
      },
      "source": [
        "#### 45. Create random vector of size 10 and replace the maximum value by 0 (★★☆)"
      ],
      "id": "oJTBRYsaOPnB"
    },
    {
      "cell_type": "code",
      "execution_count": null,
      "metadata": {
        "colab": {
          "base_uri": "https://localhost:8080/"
        },
        "id": "6fZkDdyPOPnC",
        "outputId": "6f051e1e-d595-4ccc-a129-ea311f775a16"
      },
      "outputs": [
        {
          "output_type": "stream",
          "name": "stdout",
          "text": [
            "[0.81969068 0.74337803 0.53704638 0.         0.52869943 0.09938944\n",
            " 0.02463284 0.13071699 0.76443492 0.16143645]\n"
          ]
        }
      ],
      "source": [
        "Z = np.random.random(10)\n",
        "Z[Z.argmax()] = 0\n",
        "print(Z)"
      ],
      "id": "6fZkDdyPOPnC"
    },
    {
      "cell_type": "markdown",
      "metadata": {
        "id": "25oesfk_OPnC"
      },
      "source": [
        "#### 46. Create a structured array with `x` and `y` coordinates covering the [0,1]x[0,1] area (★★☆)"
      ],
      "id": "25oesfk_OPnC"
    },
    {
      "cell_type": "code",
      "execution_count": null,
      "metadata": {
        "colab": {
          "base_uri": "https://localhost:8080/"
        },
        "id": "wtAUhXpmOPnC",
        "outputId": "6573cb17-1a50-4931-902a-984cfa70dcdc"
      },
      "outputs": [
        {
          "output_type": "stream",
          "name": "stdout",
          "text": [
            "[[(0.  , 0.  ) (0.25, 0.  ) (0.5 , 0.  ) (0.75, 0.  ) (1.  , 0.  )]\n",
            " [(0.  , 0.25) (0.25, 0.25) (0.5 , 0.25) (0.75, 0.25) (1.  , 0.25)]\n",
            " [(0.  , 0.5 ) (0.25, 0.5 ) (0.5 , 0.5 ) (0.75, 0.5 ) (1.  , 0.5 )]\n",
            " [(0.  , 0.75) (0.25, 0.75) (0.5 , 0.75) (0.75, 0.75) (1.  , 0.75)]\n",
            " [(0.  , 1.  ) (0.25, 1.  ) (0.5 , 1.  ) (0.75, 1.  ) (1.  , 1.  )]]\n"
          ]
        }
      ],
      "source": [
        "Z = np.zeros((5,5), [('x',float),('y',float)])\n",
        "Z['x'], Z['y'] = np.meshgrid(np.linspace(0,1,5),\n",
        "                             np.linspace(0,1,5))\n",
        "print(Z)"
      ],
      "id": "wtAUhXpmOPnC"
    },
    {
      "cell_type": "markdown",
      "metadata": {
        "id": "NcbBl_ILOPnC"
      },
      "source": [
        "#### 47. Given two arrays, X and Y, construct the Cauchy matrix C (Cij =1/(xi - yj)) (★★☆)"
      ],
      "id": "NcbBl_ILOPnC"
    },
    {
      "cell_type": "code",
      "execution_count": null,
      "metadata": {
        "colab": {
          "base_uri": "https://localhost:8080/"
        },
        "id": "LeXWTqYgOPnC",
        "outputId": "8195d402-d61b-4189-8f17-e97e15506ac5"
      },
      "outputs": [
        {
          "output_type": "stream",
          "name": "stdout",
          "text": [
            "3638.163637117973\n"
          ]
        }
      ],
      "source": [
        "X = np.arange(8)\n",
        "Y = X + 0.5\n",
        "C = 1.0 / np.subtract.outer(X, Y)\n",
        "print(np.linalg.det(C))"
      ],
      "id": "LeXWTqYgOPnC"
    },
    {
      "cell_type": "markdown",
      "metadata": {
        "id": "BrWo-18DOPnC"
      },
      "source": [
        "#### 48. Print the minimum and maximum representable value for each numpy scalar type (★★☆)"
      ],
      "id": "BrWo-18DOPnC"
    },
    {
      "cell_type": "code",
      "execution_count": null,
      "metadata": {
        "colab": {
          "base_uri": "https://localhost:8080/"
        },
        "id": "qqbh8zjgOPnC",
        "outputId": "409bdf30-0d17-4bdf-d233-054923568e22"
      },
      "outputs": [
        {
          "output_type": "stream",
          "name": "stdout",
          "text": [
            "-128\n",
            "127\n",
            "-2147483648\n",
            "2147483647\n",
            "-9223372036854775808\n",
            "9223372036854775807\n",
            "-3.4028235e+38\n",
            "3.4028235e+38\n",
            "1.1920929e-07\n",
            "-1.7976931348623157e+308\n",
            "1.7976931348623157e+308\n",
            "2.220446049250313e-16\n"
          ]
        }
      ],
      "source": [
        "for dtype in [np.int8, np.int32, np.int64]:\n",
        "   print(np.iinfo(dtype).min)\n",
        "   print(np.iinfo(dtype).max)\n",
        "for dtype in [np.float32, np.float64]:\n",
        "   print(np.finfo(dtype).min)\n",
        "   print(np.finfo(dtype).max)\n",
        "   print(np.finfo(dtype).eps)"
      ],
      "id": "qqbh8zjgOPnC"
    },
    {
      "cell_type": "markdown",
      "metadata": {
        "id": "b6g-x8SsOPnD"
      },
      "source": [
        "#### 50. How to find the closest value (to a given scalar) in a vector? (★★☆)"
      ],
      "id": "b6g-x8SsOPnD"
    },
    {
      "cell_type": "code",
      "execution_count": 4,
      "metadata": {
        "colab": {
          "base_uri": "https://localhost:8080/"
        },
        "id": "o-F-PG12OPnD",
        "outputId": "587218a4-0565-4835-ccaf-1e51c2ab2e56"
      },
      "outputs": [
        {
          "output_type": "stream",
          "name": "stdout",
          "text": [
            "70\n"
          ]
        }
      ],
      "source": [
        "Z = np.arange(100)\n",
        "v = np.random.uniform(0,100)\n",
        "index = (np.abs(Z-v)).argmin()\n",
        "print(Z[index])"
      ],
      "id": "o-F-PG12OPnD"
    },
    {
      "cell_type": "markdown",
      "metadata": {
        "id": "LJQ3h-sfOPnD"
      },
      "source": [
        "#### 51. Create a structured array representing a position (x,y) and a color (r,g,b) (★★☆)"
      ],
      "id": "LJQ3h-sfOPnD"
    },
    {
      "cell_type": "code",
      "execution_count": 5,
      "metadata": {
        "colab": {
          "base_uri": "https://localhost:8080/"
        },
        "id": "ZPXDZYa3OPnD",
        "outputId": "bda60441-beab-4f3a-a103-b6e171f3ddd1"
      },
      "outputs": [
        {
          "output_type": "stream",
          "name": "stdout",
          "text": [
            "[((0., 0.), (0., 0., 0.)) ((0., 0.), (0., 0., 0.))\n",
            " ((0., 0.), (0., 0., 0.)) ((0., 0.), (0., 0., 0.))\n",
            " ((0., 0.), (0., 0., 0.)) ((0., 0.), (0., 0., 0.))\n",
            " ((0., 0.), (0., 0., 0.)) ((0., 0.), (0., 0., 0.))\n",
            " ((0., 0.), (0., 0., 0.)) ((0., 0.), (0., 0., 0.))]\n"
          ]
        },
        {
          "output_type": "stream",
          "name": "stderr",
          "text": [
            "<ipython-input-5-6f1aa4d7a2ff>:1: FutureWarning: Passing (type, 1) or '1type' as a synonym of type is deprecated; in a future version of numpy, it will be understood as (type, (1,)) / '(1,)type'.\n",
            "  Z = np.zeros(10, [ ('position', [ ('x', float, 1),\n"
          ]
        }
      ],
      "source": [
        "Z = np.zeros(10, [ ('position', [ ('x', float, 1),\n",
        "                                  ('y', float, 1)]),\n",
        "                   ('color',    [ ('r', float, 1),\n",
        "                                  ('g', float, 1),\n",
        "                                  ('b', float, 1)])])\n",
        "print(Z)"
      ],
      "id": "ZPXDZYa3OPnD"
    },
    {
      "cell_type": "markdown",
      "metadata": {
        "id": "whRFdXUfOPnD"
      },
      "source": [
        "#### 52. Consider a random vector with shape (100,2) representing coordinates, find point by point distances (★★☆)"
      ],
      "id": "whRFdXUfOPnD"
    },
    {
      "cell_type": "code",
      "execution_count": 8,
      "metadata": {
        "colab": {
          "base_uri": "https://localhost:8080/"
        },
        "id": "d6wKF0K1OPnD",
        "outputId": "f1364b88-6b91-4437-8e0b-ffb100735e11"
      },
      "outputs": [
        {
          "output_type": "stream",
          "name": "stdout",
          "text": [
            "[[0.         0.85088173 0.46064758 0.3665567  0.44779725 0.29015795\n",
            "  0.58355536 1.07940155 0.4559017  0.24719262]\n",
            " [0.85088173 0.         1.06148446 0.49489482 1.10916189 0.58350465\n",
            "  0.92275467 0.8335997  0.42125465 0.690152  ]\n",
            " [0.46064758 1.06148446 0.         0.60651631 0.07696041 0.66413388\n",
            "  0.26723355 0.89527734 0.78386916 0.40487499]\n",
            " [0.3665567  0.49489482 0.60651631 0.         0.64019658 0.18105651\n",
            "  0.5557303  0.82732565 0.19175827 0.20572586]\n",
            " [0.44779725 1.10916189 0.07696041 0.64019658 0.         0.67807088\n",
            "  0.34418485 0.97208246 0.80930444 0.43487197]\n",
            " [0.29015795 0.58350465 0.66413388 0.18105651 0.67807088 0.\n",
            "  0.67967248 1.00804431 0.16899273 0.27710171]\n",
            " [0.58355536 0.92275467 0.26723355 0.5557303  0.34418485 0.67967248\n",
            "  0.         0.62849605 0.74748218 0.40601921]\n",
            " [1.07940155 0.8335997  0.89527734 0.82732565 0.97208246 1.00804431\n",
            "  0.62849605 0.         0.96197402 0.83438049]\n",
            " [0.4559017  0.42125465 0.78386916 0.19175827 0.80930444 0.16899273\n",
            "  0.74748218 0.96197402 0.         0.37922462]\n",
            " [0.24719262 0.690152   0.40487499 0.20572586 0.43487197 0.27710171\n",
            "  0.40601921 0.83438049 0.37922462 0.        ]]\n"
          ]
        }
      ],
      "source": [
        "Z = np.random.random((10,2))\n",
        "X,Y = np.atleast_2d(Z[:,0], Z[:,1])\n",
        "D = np.sqrt( (X-X.T)**2 + (Y-Y.T)**2)\n",
        "print(D)"
      ],
      "id": "d6wKF0K1OPnD"
    },
    {
      "cell_type": "markdown",
      "metadata": {
        "id": "MphGvBmTOPnE"
      },
      "source": [
        "#### 53. How to convert a float (32 bits) array into an integer (32 bits) in place?"
      ],
      "id": "MphGvBmTOPnE"
    },
    {
      "cell_type": "code",
      "execution_count": 9,
      "metadata": {
        "colab": {
          "base_uri": "https://localhost:8080/"
        },
        "id": "Z8fd7kmkOPnE",
        "outputId": "5da43bc9-86d5-42f0-db87-59e5a97ba994"
      },
      "outputs": [
        {
          "output_type": "stream",
          "name": "stdout",
          "text": [
            "[0 1 2 3 4 5 6 7 8 9]\n"
          ]
        }
      ],
      "source": [
        "Z = np.arange(10, dtype=np.float32)\n",
        "Z = Z.astype(np.int32, copy=False)\n",
        "print(Z)"
      ],
      "id": "Z8fd7kmkOPnE"
    },
    {
      "cell_type": "markdown",
      "metadata": {
        "id": "CY6Vp2fgOPnE"
      },
      "source": [
        "#### 54. How to read the following file? (★★☆)\n",
        "```\n",
        "1, 2, 3, 4, 5\n",
        "6,  ,  , 7, 8\n",
        " ,  , 9,10,11\n",
        "```"
      ],
      "id": "CY6Vp2fgOPnE"
    },
    {
      "cell_type": "code",
      "execution_count": 10,
      "metadata": {
        "colab": {
          "base_uri": "https://localhost:8080/"
        },
        "id": "3jV9qYQHOPnE",
        "outputId": "fb451097-1377-4e64-8c1d-1c88103adba0"
      },
      "outputs": [
        {
          "output_type": "stream",
          "name": "stdout",
          "text": [
            "[[ 1  2  3  4  5]\n",
            " [ 6 -1 -1  7  8]\n",
            " [-1 -1  9 10 11]]\n"
          ]
        },
        {
          "output_type": "stream",
          "name": "stderr",
          "text": [
            "<ipython-input-10-4a7b0d9b8ca3>:6: DeprecationWarning: `np.int` is a deprecated alias for the builtin `int`. To silence this warning, use `int` by itself. Doing this will not modify any behavior and is safe. When replacing `np.int`, you may wish to use e.g. `np.int64` or `np.int32` to specify the precision. If you wish to review your current use, check the release note link for additional information.\n",
            "Deprecated in NumPy 1.20; for more details and guidance: https://numpy.org/devdocs/release/1.20.0-notes.html#deprecations\n",
            "  Z = np.genfromtxt(s, delimiter=\",\", dtype=np.int)\n"
          ]
        }
      ],
      "source": [
        "from io import StringIO\n",
        "\n",
        "s = StringIO(\"\"\"1, 2, 3, 4, 5\\n\n",
        "                6,  ,  , 7, 8\\n\n",
        "                 ,  , 9,10,11\\n\"\"\")\n",
        "Z = np.genfromtxt(s, delimiter=\",\", dtype=np.int)\n",
        "print(Z)"
      ],
      "id": "3jV9qYQHOPnE"
    },
    {
      "cell_type": "markdown",
      "metadata": {
        "id": "f2_c-b_6OPnE"
      },
      "source": [
        "#### 55. What is the equivalent of enumerate for numpy arrays? (★★☆)"
      ],
      "id": "f2_c-b_6OPnE"
    },
    {
      "cell_type": "code",
      "execution_count": 11,
      "metadata": {
        "colab": {
          "base_uri": "https://localhost:8080/"
        },
        "id": "jJZ4lC-UOPnE",
        "outputId": "2514e7f6-e67b-4e3c-d053-bd58da106462"
      },
      "outputs": [
        {
          "output_type": "stream",
          "name": "stdout",
          "text": [
            "(0, 0) 0\n",
            "(0, 1) 1\n",
            "(0, 2) 2\n",
            "(1, 0) 3\n",
            "(1, 1) 4\n",
            "(1, 2) 5\n",
            "(2, 0) 6\n",
            "(2, 1) 7\n",
            "(2, 2) 8\n",
            "(0, 0) 0\n",
            "(0, 1) 1\n",
            "(0, 2) 2\n",
            "(1, 0) 3\n",
            "(1, 1) 4\n",
            "(1, 2) 5\n",
            "(2, 0) 6\n",
            "(2, 1) 7\n",
            "(2, 2) 8\n"
          ]
        }
      ],
      "source": [
        "Z = np.arange(9).reshape(3,3)\n",
        "for index, value in np.ndenumerate(Z):\n",
        "    print(index, value)\n",
        "for index in np.ndindex(Z.shape):\n",
        "    print(index, Z[index])"
      ],
      "id": "jJZ4lC-UOPnE"
    },
    {
      "cell_type": "markdown",
      "metadata": {
        "id": "LD7LyOi3OPnE"
      },
      "source": [
        "#### 56. Generate a generic 2D Gaussian-like array (★★☆)"
      ],
      "id": "LD7LyOi3OPnE"
    },
    {
      "cell_type": "code",
      "execution_count": 12,
      "metadata": {
        "colab": {
          "base_uri": "https://localhost:8080/"
        },
        "id": "7Lnm0QOGOPnE",
        "outputId": "91562d39-fb86-4d50-cb67-ce6bec6b1223"
      },
      "outputs": [
        {
          "output_type": "stream",
          "name": "stdout",
          "text": [
            "[[0.36787944 0.44822088 0.51979489 0.57375342 0.60279818 0.60279818\n",
            "  0.57375342 0.51979489 0.44822088 0.36787944]\n",
            " [0.44822088 0.54610814 0.63331324 0.69905581 0.73444367 0.73444367\n",
            "  0.69905581 0.63331324 0.54610814 0.44822088]\n",
            " [0.51979489 0.63331324 0.73444367 0.81068432 0.85172308 0.85172308\n",
            "  0.81068432 0.73444367 0.63331324 0.51979489]\n",
            " [0.57375342 0.69905581 0.81068432 0.89483932 0.9401382  0.9401382\n",
            "  0.89483932 0.81068432 0.69905581 0.57375342]\n",
            " [0.60279818 0.73444367 0.85172308 0.9401382  0.98773022 0.98773022\n",
            "  0.9401382  0.85172308 0.73444367 0.60279818]\n",
            " [0.60279818 0.73444367 0.85172308 0.9401382  0.98773022 0.98773022\n",
            "  0.9401382  0.85172308 0.73444367 0.60279818]\n",
            " [0.57375342 0.69905581 0.81068432 0.89483932 0.9401382  0.9401382\n",
            "  0.89483932 0.81068432 0.69905581 0.57375342]\n",
            " [0.51979489 0.63331324 0.73444367 0.81068432 0.85172308 0.85172308\n",
            "  0.81068432 0.73444367 0.63331324 0.51979489]\n",
            " [0.44822088 0.54610814 0.63331324 0.69905581 0.73444367 0.73444367\n",
            "  0.69905581 0.63331324 0.54610814 0.44822088]\n",
            " [0.36787944 0.44822088 0.51979489 0.57375342 0.60279818 0.60279818\n",
            "  0.57375342 0.51979489 0.44822088 0.36787944]]\n"
          ]
        }
      ],
      "source": [
        "X, Y = np.meshgrid(np.linspace(-1,1,10), np.linspace(-1,1,10))\n",
        "D = np.sqrt(X*X+Y*Y)\n",
        "sigma, mu = 1.0, 0.0\n",
        "G = np.exp(-( (D-mu)**2 / ( 2.0 * sigma**2 ) ) )\n",
        "print(G)"
      ],
      "id": "7Lnm0QOGOPnE"
    },
    {
      "cell_type": "markdown",
      "metadata": {
        "id": "7nzpx9ONOPnF"
      },
      "source": [
        "#### 57. How to randomly place p elements in a 2D array? (★★☆)"
      ],
      "id": "7nzpx9ONOPnF"
    },
    {
      "cell_type": "code",
      "execution_count": 13,
      "metadata": {
        "colab": {
          "base_uri": "https://localhost:8080/"
        },
        "id": "6K06s8W9OPnF",
        "outputId": "cd807773-0e10-4769-c6e4-364982534741"
      },
      "outputs": [
        {
          "output_type": "stream",
          "name": "stdout",
          "text": [
            "[[0. 0. 0. 0. 0. 0. 0. 0. 0. 0.]\n",
            " [0. 0. 0. 0. 0. 0. 0. 0. 0. 0.]\n",
            " [0. 0. 0. 0. 0. 0. 0. 0. 0. 0.]\n",
            " [0. 0. 0. 0. 0. 0. 0. 0. 0. 0.]\n",
            " [0. 0. 0. 0. 0. 1. 0. 0. 0. 0.]\n",
            " [0. 0. 0. 0. 0. 0. 0. 0. 0. 0.]\n",
            " [0. 0. 0. 0. 0. 0. 0. 0. 0. 0.]\n",
            " [0. 0. 0. 0. 0. 0. 0. 0. 0. 0.]\n",
            " [1. 0. 0. 0. 0. 0. 0. 0. 0. 0.]\n",
            " [0. 0. 0. 0. 0. 0. 0. 0. 1. 0.]]\n"
          ]
        }
      ],
      "source": [
        "n = 10\n",
        "p = 3\n",
        "Z = np.zeros((n,n))\n",
        "np.put(Z, np.random.choice(range(n*n), p, replace=False),1)\n",
        "print(Z)"
      ],
      "id": "6K06s8W9OPnF"
    },
    {
      "cell_type": "markdown",
      "metadata": {
        "id": "NXx0zoHnOPnF"
      },
      "source": [
        "#### 58. Subtract the mean of each row of a matrix (★★☆)"
      ],
      "id": "NXx0zoHnOPnF"
    },
    {
      "cell_type": "code",
      "execution_count": 14,
      "metadata": {
        "colab": {
          "base_uri": "https://localhost:8080/"
        },
        "id": "ZwVRRSTHOPnF",
        "outputId": "add2c20f-e018-4608-e99a-bf16074137e0"
      },
      "outputs": [
        {
          "output_type": "stream",
          "name": "stdout",
          "text": [
            "[[-0.21125088  0.07601546 -0.29538286  0.04486734  0.32156808  0.36670435\n",
            "   0.10983471 -0.06097455 -0.45267834  0.10129671]\n",
            " [ 0.02067817  0.13020703 -0.2801295   0.11095585 -0.08268708  0.03445573\n",
            "   0.54495086 -0.22050468  0.04514388 -0.30307027]\n",
            " [ 0.25181628 -0.41905753  0.31179062  0.3517562  -0.32087407 -0.29293479\n",
            "  -0.37107139 -0.14976969  0.4609914   0.17735298]\n",
            " [ 0.18565883 -0.57696288 -0.16321484  0.01128291  0.03851902  0.21976884\n",
            "  -0.0486884   0.26879869 -0.04310704  0.10794486]\n",
            " [-0.39913145  0.41933016  0.2665044  -0.35953576 -0.42841432  0.42050337\n",
            "   0.31213386 -0.38195815  0.07181817  0.07874972]]\n"
          ]
        }
      ],
      "source": [
        "X = np.random.rand(5, 10)\n",
        "Y = X - X.mean(axis=1).reshape(-1, 1)\n",
        "print(Y)"
      ],
      "id": "ZwVRRSTHOPnF"
    },
    {
      "cell_type": "markdown",
      "metadata": {
        "id": "nDHh_oFaOPnF"
      },
      "source": [
        "#### 59. How to sort an array by the nth column? (★★☆)"
      ],
      "id": "nDHh_oFaOPnF"
    },
    {
      "cell_type": "code",
      "execution_count": 17,
      "metadata": {
        "colab": {
          "base_uri": "https://localhost:8080/"
        },
        "id": "s3F5My_IOPnF",
        "outputId": "144f37df-9b5c-4715-d0a9-7036e413ceb6"
      },
      "outputs": [
        {
          "output_type": "stream",
          "name": "stdout",
          "text": [
            "[[7 8 9]\n",
            " [0 6 1]\n",
            " [6 9 6]]\n",
            "[[0 6 1]\n",
            " [7 8 9]\n",
            " [6 9 6]]\n"
          ]
        }
      ],
      "source": [
        "Z = np.random.randint(0,10,(3,3))\n",
        "print(Z)\n",
        "print(Z[Z[:,1].argsort()])"
      ],
      "id": "s3F5My_IOPnF"
    },
    {
      "cell_type": "markdown",
      "metadata": {
        "id": "8NWhu_WbOPnG"
      },
      "source": [
        "#### 60. How to tell if a given 2D array has null columns? (★★☆)"
      ],
      "id": "8NWhu_WbOPnG"
    },
    {
      "cell_type": "code",
      "execution_count": 18,
      "metadata": {
        "colab": {
          "base_uri": "https://localhost:8080/"
        },
        "id": "SJhrzxpNOPnG",
        "outputId": "04f09316-c896-4ae4-dcd3-c4e12d11995f"
      },
      "outputs": [
        {
          "output_type": "stream",
          "name": "stdout",
          "text": [
            "True\n"
          ]
        }
      ],
      "source": [
        "Z = np.random.randint(0,3,(3,10))\n",
        "print((~Z.any(axis=0)).any())"
      ],
      "id": "SJhrzxpNOPnG"
    },
    {
      "cell_type": "markdown",
      "metadata": {
        "id": "UriZG-HsOPnG"
      },
      "source": [
        "#### 61. Find the nearest value from a given value in an array (★★☆)"
      ],
      "id": "UriZG-HsOPnG"
    },
    {
      "cell_type": "code",
      "execution_count": 19,
      "metadata": {
        "colab": {
          "base_uri": "https://localhost:8080/"
        },
        "id": "Q-4Kui06OPnG",
        "outputId": "5b629ddf-6600-46b0-e187-a152eda79acc"
      },
      "outputs": [
        {
          "output_type": "stream",
          "name": "stdout",
          "text": [
            "0.5247964548013084\n"
          ]
        }
      ],
      "source": [
        "Z = np.random.uniform(0,1,10)\n",
        "z = 0.5\n",
        "m = Z.flat[np.abs(Z - z).argmin()]\n",
        "print(m)"
      ],
      "id": "Q-4Kui06OPnG"
    },
    {
      "cell_type": "markdown",
      "metadata": {
        "id": "7mimQ4t6OPnG"
      },
      "source": [
        "#### 62. Considering two arrays with shape (1,3) and (3,1), how to compute their sum using an iterator? (★★☆)"
      ],
      "id": "7mimQ4t6OPnG"
    },
    {
      "cell_type": "code",
      "execution_count": 20,
      "metadata": {
        "colab": {
          "base_uri": "https://localhost:8080/"
        },
        "id": "nnwmCb-IOPnG",
        "outputId": "3d82a762-c7d6-4e24-e615-a29a29aabb94"
      },
      "outputs": [
        {
          "output_type": "stream",
          "name": "stdout",
          "text": [
            "[[0 1 2]\n",
            " [1 2 3]\n",
            " [2 3 4]]\n"
          ]
        }
      ],
      "source": [
        "A = np.arange(3).reshape(3,1)\n",
        "B = np.arange(3).reshape(1,3)\n",
        "it = np.nditer([A,B,None])\n",
        "for x,y,z in it: z[...] = x + y\n",
        "print(it.operands[2])"
      ],
      "id": "nnwmCb-IOPnG"
    },
    {
      "cell_type": "markdown",
      "metadata": {
        "id": "JB5B_OWnOPnG"
      },
      "source": [
        "#### 63. Create an array class that has a name attribute (★★☆)"
      ],
      "id": "JB5B_OWnOPnG"
    },
    {
      "cell_type": "code",
      "execution_count": 21,
      "metadata": {
        "colab": {
          "base_uri": "https://localhost:8080/"
        },
        "id": "Hj6dBmSQOPnG",
        "outputId": "f31af0d5-bd93-4859-bee9-0306adc69370"
      },
      "outputs": [
        {
          "output_type": "stream",
          "name": "stdout",
          "text": [
            "range_10\n"
          ]
        }
      ],
      "source": [
        "class NamedArray(np.ndarray):\n",
        "    def __new__(cls, array, name=\"no name\"):\n",
        "        obj = np.asarray(array).view(cls)\n",
        "        obj.name = name\n",
        "        return obj\n",
        "    def __array_finalize__(self, obj):\n",
        "        if obj is None: return\n",
        "        self.info = getattr(obj, 'name', \"no name\")\n",
        "\n",
        "Z = NamedArray(np.arange(10), \"range_10\")\n",
        "print (Z.name)"
      ],
      "id": "Hj6dBmSQOPnG"
    },
    {
      "cell_type": "markdown",
      "metadata": {
        "id": "bhClwhOwOPnH"
      },
      "source": [
        "#### 64. Consider a given vector, how to add 1 to each element indexed by a second vector (be careful with repeated indices)? (★★★)"
      ],
      "id": "bhClwhOwOPnH"
    },
    {
      "cell_type": "code",
      "execution_count": 22,
      "metadata": {
        "colab": {
          "base_uri": "https://localhost:8080/"
        },
        "id": "ZAbL8XZVOPnH",
        "outputId": "39b3e6e8-3ccf-4d55-92e2-4d6b7abc96d3"
      },
      "outputs": [
        {
          "output_type": "stream",
          "name": "stdout",
          "text": [
            "[4. 6. 3. 4. 3. 1. 3. 2. 2. 2.]\n"
          ]
        }
      ],
      "source": [
        "Z = np.ones(10)\n",
        "I = np.random.randint(0,len(Z),20)\n",
        "Z += np.bincount(I, minlength=len(Z))\n",
        "print(Z)"
      ],
      "id": "ZAbL8XZVOPnH"
    },
    {
      "cell_type": "markdown",
      "metadata": {
        "id": "EzN_0JPCOPnH"
      },
      "source": [
        "#### 65. How to accumulate elements of a vector (X) to an array (F) based on an index list (I)? (★★★)"
      ],
      "id": "EzN_0JPCOPnH"
    },
    {
      "cell_type": "code",
      "execution_count": 23,
      "metadata": {
        "colab": {
          "base_uri": "https://localhost:8080/"
        },
        "id": "jdX0eMD4OPnH",
        "outputId": "b166c224-8db6-4a2e-9fb6-272be5f93bec"
      },
      "outputs": [
        {
          "output_type": "stream",
          "name": "stdout",
          "text": [
            "[0. 7. 0. 6. 5. 0. 0. 0. 0. 3.]\n"
          ]
        }
      ],
      "source": [
        "X = [1,2,3,4,5,6]\n",
        "I = [1,3,9,3,4,1]\n",
        "F = np.bincount(I,X)\n",
        "print(F)"
      ],
      "id": "jdX0eMD4OPnH"
    },
    {
      "cell_type": "markdown",
      "metadata": {
        "id": "GwL86uRoOPnH"
      },
      "source": [
        "#### 66. Considering a (w,h,3) image of (dtype=ubyte), compute the number of unique colors (★★☆)"
      ],
      "id": "GwL86uRoOPnH"
    },
    {
      "cell_type": "code",
      "execution_count": null,
      "metadata": {
        "colab": {
          "base_uri": "https://localhost:8080/"
        },
        "id": "Z5yAWckWOPnH",
        "outputId": "7a5366cd-6c7a-4111-ea76-df1980c8341d"
      },
      "outputs": [
        {
          "output_type": "stream",
          "name": "stdout",
          "text": [
            "8\n"
          ]
        }
      ],
      "source": [
        "w,h = 16,16\n",
        "I = np.random.randint(0,2,(h,w,3)).astype(np.ubyte)\n",
        "F = I[...,0]*(256*256) + I[...,1]*256 +I[...,2]\n",
        "n = len(np.unique(F))\n",
        "print(n)"
      ],
      "id": "Z5yAWckWOPnH"
    },
    {
      "cell_type": "markdown",
      "metadata": {
        "id": "2A3_QjoTOPnH"
      },
      "source": [
        "#### 67. Considering a four dimensions array, how to get sum over the last two axis at once? (★★★)"
      ],
      "id": "2A3_QjoTOPnH"
    },
    {
      "cell_type": "code",
      "execution_count": null,
      "metadata": {
        "colab": {
          "base_uri": "https://localhost:8080/"
        },
        "id": "8QZEB4EsOPnI",
        "outputId": "3e5412bb-c8a4-4fe0-bd5e-4c1accfa338d"
      },
      "outputs": [
        {
          "output_type": "stream",
          "name": "stdout",
          "text": [
            "[[43 67 48 55]\n",
            " [48 53 61 61]\n",
            " [69 59 60 60]]\n"
          ]
        }
      ],
      "source": [
        "A = np.random.randint(0,10,(3,4,3,4))\n",
        "print(A.reshape(A.shape[:-2] + (-1,)).sum(axis=-1))"
      ],
      "id": "8QZEB4EsOPnI"
    },
    {
      "cell_type": "markdown",
      "metadata": {
        "id": "1lz9SwYwOPnI"
      },
      "source": [
        "#### 68. Considering a one-dimensional vector D, how to compute means of subsets of D using a vector S of same size describing subset  indices? (★★★)"
      ],
      "id": "1lz9SwYwOPnI"
    },
    {
      "cell_type": "code",
      "execution_count": null,
      "metadata": {
        "colab": {
          "base_uri": "https://localhost:8080/"
        },
        "id": "Un1nGxbwOPnI",
        "outputId": "e9667cfd-166c-495e-df24-f1651c220668"
      },
      "outputs": [
        {
          "output_type": "stream",
          "name": "stdout",
          "text": [
            "[0.68528188 0.60800561 0.62206117 0.44657111 0.56627488 0.54128262\n",
            " 0.56932509 0.58754969 0.60263255 0.56727272]\n"
          ]
        }
      ],
      "source": [
        "D = np.random.uniform(0,1,100)\n",
        "S = np.random.randint(0,10,100)\n",
        "D_sums = np.bincount(S, weights=D)\n",
        "D_counts = np.bincount(S)\n",
        "D_means = D_sums / D_counts\n",
        "print(D_means)"
      ],
      "id": "Un1nGxbwOPnI"
    },
    {
      "cell_type": "markdown",
      "metadata": {
        "id": "nkco0OAjOPnI"
      },
      "source": [
        "#### 69. How to get the diagonal of a dot product? (★★★)"
      ],
      "id": "nkco0OAjOPnI"
    },
    {
      "cell_type": "code",
      "execution_count": null,
      "metadata": {
        "colab": {
          "base_uri": "https://localhost:8080/"
        },
        "id": "hBZSDdRHOPnI",
        "outputId": "b2eb7387-edf4-4360-dec1-3ba4dd373ff0"
      },
      "outputs": [
        {
          "output_type": "execute_result",
          "data": {
            "text/plain": [
              "array([0.49402358, 1.40099877, 1.31800985, 2.79197699, 1.80421855])"
            ]
          },
          "metadata": {},
          "execution_count": 78
        }
      ],
      "source": [
        "A = np.random.uniform(0,1,(5,5))\n",
        "B = np.random.uniform(0,1,(5,5))\n",
        "\n",
        "np.sum(A * B.T, axis=1)"
      ],
      "id": "hBZSDdRHOPnI"
    },
    {
      "cell_type": "markdown",
      "metadata": {
        "id": "GPN4V-DdOPnI"
      },
      "source": [
        "#### 70. Consider the vector [1, 2, 3, 4, 5], how to build a new vector with 3 consecutive zeros interleaved between each value? (★★★)"
      ],
      "id": "GPN4V-DdOPnI"
    },
    {
      "cell_type": "code",
      "execution_count": 24,
      "metadata": {
        "colab": {
          "base_uri": "https://localhost:8080/"
        },
        "id": "7ABpBIN3OPnI",
        "outputId": "48698ddd-b287-45c9-8e23-8770fc71bc99"
      },
      "outputs": [
        {
          "output_type": "stream",
          "name": "stdout",
          "text": [
            "[1. 0. 0. 0. 2. 0. 0. 0. 3. 0. 0. 0. 4. 0. 0. 0. 5.]\n"
          ]
        }
      ],
      "source": [
        "Z = np.array([1,2,3,4,5])\n",
        "nz = 3\n",
        "Z0 = np.zeros(len(Z) + (len(Z)-1)*(nz))\n",
        "Z0[::nz+1] = Z\n",
        "print(Z0)"
      ],
      "id": "7ABpBIN3OPnI"
    },
    {
      "cell_type": "markdown",
      "metadata": {
        "id": "dOQATgnHOPnJ"
      },
      "source": [
        "#### 71. Consider an array of dimension (5,5,3), how to mulitply it by an array with dimensions (5,5)? (★★★)"
      ],
      "id": "dOQATgnHOPnJ"
    },
    {
      "cell_type": "code",
      "execution_count": 25,
      "metadata": {
        "colab": {
          "base_uri": "https://localhost:8080/"
        },
        "id": "AGOzs4HwOPnJ",
        "outputId": "9cadeb74-0c3d-44a7-d6f5-8195ac0e8629"
      },
      "outputs": [
        {
          "output_type": "stream",
          "name": "stdout",
          "text": [
            "[[[2. 2. 2.]\n",
            "  [2. 2. 2.]\n",
            "  [2. 2. 2.]\n",
            "  [2. 2. 2.]\n",
            "  [2. 2. 2.]]\n",
            "\n",
            " [[2. 2. 2.]\n",
            "  [2. 2. 2.]\n",
            "  [2. 2. 2.]\n",
            "  [2. 2. 2.]\n",
            "  [2. 2. 2.]]\n",
            "\n",
            " [[2. 2. 2.]\n",
            "  [2. 2. 2.]\n",
            "  [2. 2. 2.]\n",
            "  [2. 2. 2.]\n",
            "  [2. 2. 2.]]\n",
            "\n",
            " [[2. 2. 2.]\n",
            "  [2. 2. 2.]\n",
            "  [2. 2. 2.]\n",
            "  [2. 2. 2.]\n",
            "  [2. 2. 2.]]\n",
            "\n",
            " [[2. 2. 2.]\n",
            "  [2. 2. 2.]\n",
            "  [2. 2. 2.]\n",
            "  [2. 2. 2.]\n",
            "  [2. 2. 2.]]]\n"
          ]
        }
      ],
      "source": [
        "A = np.ones((5,5,3))\n",
        "B = 2*np.ones((5,5))\n",
        "print(A * B[:,:,None])"
      ],
      "id": "AGOzs4HwOPnJ"
    },
    {
      "cell_type": "markdown",
      "metadata": {
        "id": "QNu0A5ZYOPnJ"
      },
      "source": [
        "#### 72. How to swap two rows of an array? (★★★)"
      ],
      "id": "QNu0A5ZYOPnJ"
    },
    {
      "cell_type": "code",
      "execution_count": 26,
      "metadata": {
        "colab": {
          "base_uri": "https://localhost:8080/"
        },
        "id": "YQ0u6rYOOPnJ",
        "outputId": "7cfe0691-3231-43e7-9d6f-66bdd539c71a"
      },
      "outputs": [
        {
          "output_type": "stream",
          "name": "stdout",
          "text": [
            "[[ 5  6  7  8  9]\n",
            " [ 0  1  2  3  4]\n",
            " [10 11 12 13 14]\n",
            " [15 16 17 18 19]\n",
            " [20 21 22 23 24]]\n"
          ]
        }
      ],
      "source": [
        "A = np.arange(25).reshape(5,5)\n",
        "A[[0,1]] = A[[1,0]]\n",
        "print(A)"
      ],
      "id": "YQ0u6rYOOPnJ"
    },
    {
      "cell_type": "markdown",
      "metadata": {
        "id": "MhZM5p1nOPnJ"
      },
      "source": [
        "#### 73. Consider a set of 10 triplets describing 10 triangles (with shared vertices), find the set of unique line segments composing all the  triangles (★★★)"
      ],
      "id": "MhZM5p1nOPnJ"
    },
    {
      "cell_type": "code",
      "execution_count": 27,
      "metadata": {
        "colab": {
          "base_uri": "https://localhost:8080/"
        },
        "id": "kBS0e6qLOPnJ",
        "outputId": "dfc98091-a0b3-4b1b-8ff8-28bd2864aa35"
      },
      "outputs": [
        {
          "output_type": "stream",
          "name": "stdout",
          "text": [
            "[( 1,  1) ( 1, 15) ( 3, 23) ( 3, 83) ( 6, 11) ( 6, 87) ( 9, 17) ( 9, 65)\n",
            " (11, 87) (12, 22) (12, 29) (12, 55) (12, 71) (17, 38) (17, 65) (17, 93)\n",
            " (22, 71) (23, 83) (29, 55) (38, 93) (43, 51) (43, 80) (48, 69) (48, 85)\n",
            " (49, 78) (49, 96) (51, 80) (69, 85) (78, 96)]\n"
          ]
        }
      ],
      "source": [
        "faces = np.random.randint(0,100,(10,3))\n",
        "F = np.roll(faces.repeat(2,axis=1),-1,axis=1)\n",
        "F = F.reshape(len(F)*3,2)\n",
        "F = np.sort(F,axis=1)\n",
        "G = F.view( dtype=[('p0',F.dtype),('p1',F.dtype)] )\n",
        "G = np.unique(G)\n",
        "print(G)"
      ],
      "id": "kBS0e6qLOPnJ"
    },
    {
      "cell_type": "markdown",
      "metadata": {
        "id": "1jM1pGbkOPnJ"
      },
      "source": [
        "#### 74. Given a sorted array C that corresponds to a bincount, how to produce an array A such that np.bincount(A) == C? (★★★)"
      ],
      "id": "1jM1pGbkOPnJ"
    },
    {
      "cell_type": "code",
      "execution_count": null,
      "metadata": {
        "colab": {
          "base_uri": "https://localhost:8080/"
        },
        "id": "2TkIpEbTOPnK",
        "outputId": "b897dd0e-dd9c-4be4-8a5e-e6276ec4a5a8"
      },
      "outputs": [
        {
          "output_type": "stream",
          "name": "stdout",
          "text": [
            "[1 1 2 3 4 4 6]\n"
          ]
        }
      ],
      "source": [
        "C = np.bincount([1,1,2,3,4,4,6])\n",
        "A = np.repeat(np.arange(len(C)), C)\n",
        "print(A)"
      ],
      "id": "2TkIpEbTOPnK"
    },
    {
      "cell_type": "markdown",
      "metadata": {
        "id": "G2TyBcNxOPnK"
      },
      "source": [
        "#### 75. How to compute averages using a sliding window over an array? (★★★)"
      ],
      "id": "G2TyBcNxOPnK"
    },
    {
      "cell_type": "code",
      "execution_count": 28,
      "metadata": {
        "colab": {
          "base_uri": "https://localhost:8080/"
        },
        "id": "Ys_w6BnfOPnK",
        "outputId": "271e9fc5-ba2e-488d-9983-1835a65b3ce8"
      },
      "outputs": [
        {
          "output_type": "stream",
          "name": "stdout",
          "text": [
            "[ 1.  2.  3.  4.  5.  6.  7.  8.  9. 10. 11. 12. 13. 14. 15. 16. 17. 18.]\n"
          ]
        }
      ],
      "source": [
        "def moving_average(a, n=3) :\n",
        "    ret = np.cumsum(a, dtype=float)\n",
        "    ret[n:] = ret[n:] - ret[:-n]\n",
        "    return ret[n - 1:] / n\n",
        "Z = np.arange(20)\n",
        "print(moving_average(Z, n=3))"
      ],
      "id": "Ys_w6BnfOPnK"
    },
    {
      "cell_type": "markdown",
      "metadata": {
        "id": "dYCEVy94OPnK"
      },
      "source": [
        "#### 76. Consider a one-dimensional array Z, build a two-dimensional array whose first row is (Z[0],Z[1],Z[2]) and each subsequent row is  shifted by 1 (last row should be (Z[-3],Z[-2],Z[-1]) (★★★)"
      ],
      "id": "dYCEVy94OPnK"
    },
    {
      "cell_type": "code",
      "execution_count": null,
      "metadata": {
        "colab": {
          "base_uri": "https://localhost:8080/"
        },
        "id": "RPKvOxNSOPnL",
        "outputId": "e83b33f3-f861-43e5-a9ee-d08c3f50e9af"
      },
      "outputs": [
        {
          "output_type": "stream",
          "name": "stdout",
          "text": [
            "[[0 1 2]\n",
            " [1 2 3]\n",
            " [2 3 4]\n",
            " [3 4 5]\n",
            " [4 5 6]\n",
            " [5 6 7]\n",
            " [6 7 8]\n",
            " [7 8 9]]\n"
          ]
        }
      ],
      "source": [
        "def rolling(a, window):\n",
        "    shape = (a.size - window + 1, window)\n",
        "    strides = (a.itemsize, a.itemsize)\n",
        "    return np.lib.stride_tricks.as_strided(a, shape=shape, strides=strides)\n",
        "Z = rolling(np.arange(10), 3)\n",
        "print(Z)"
      ],
      "id": "RPKvOxNSOPnL"
    },
    {
      "cell_type": "markdown",
      "metadata": {
        "id": "6vwX1ezJOPnL"
      },
      "source": [
        "#### 77. How to negate a boolean, or to change the sign of a float inplace? (★★★)"
      ],
      "id": "6vwX1ezJOPnL"
    },
    {
      "cell_type": "code",
      "execution_count": 29,
      "metadata": {
        "colab": {
          "base_uri": "https://localhost:8080/"
        },
        "id": "BMmUKBhbOPnL",
        "outputId": "5cb64770-ae88-4d62-baf5-9ffa8776d25a"
      },
      "outputs": [
        {
          "output_type": "execute_result",
          "data": {
            "text/plain": [
              "array([-0.57291918,  0.85776606, -0.19796493,  0.53599681,  0.08720976,\n",
              "        0.62391768, -0.13958014,  0.35802002, -0.98513712,  0.76740211,\n",
              "       -0.14085368,  0.3767088 , -0.63335442, -0.3842086 , -0.40563681,\n",
              "       -0.64213001, -0.24894756, -0.21085777, -0.13186057,  0.33333023,\n",
              "        0.57657308,  0.97555298, -0.69526429, -0.61472177,  0.98203656,\n",
              "        0.54774114, -0.47403065,  0.27669665,  0.13179626, -0.1861673 ,\n",
              "       -0.65818855, -0.92430812, -0.21332053, -0.6252369 ,  0.34230623,\n",
              "        0.2509408 ,  0.04853081,  0.27492903, -0.07000668,  0.6134184 ,\n",
              "       -0.87998193, -0.78292076, -0.11222725, -0.71788758, -0.77680446,\n",
              "        0.00128251, -0.43522176, -0.8330016 ,  0.13686271, -0.47938433,\n",
              "        0.52341565,  0.8428239 , -0.38897823,  0.72921123,  0.21477044,\n",
              "        0.86068392,  0.59987071,  0.34338031, -0.17383936,  0.81969805,\n",
              "        0.34009109, -0.51436884,  0.93977586,  0.86298993,  0.02978013,\n",
              "        0.42250568,  0.49306011,  0.95133541,  0.20478545, -0.48098407,\n",
              "        0.55643104, -0.15852819,  0.54356245, -0.64413609, -0.09457992,\n",
              "       -0.05845998,  0.30873183, -0.44851415, -0.14319674,  0.46643646,\n",
              "       -0.83319596, -0.18395947,  0.03545214, -0.11215378, -0.5577327 ,\n",
              "        0.71055643, -0.73803804, -0.33031261, -0.96747812, -0.92554703,\n",
              "        0.34336586,  0.74992925,  0.12304271,  0.63147578, -0.80063787,\n",
              "        0.36565115,  0.02607752,  0.71812954, -0.44593993,  0.67047688])"
            ]
          },
          "metadata": {},
          "execution_count": 29
        }
      ],
      "source": [
        "Z = np.random.randint(0,2,100)\n",
        "np.logical_not(Z, out=Z)\n",
        "\n",
        "Z = np.random.uniform(-1.0,1.0,100)\n",
        "np.negative(Z, out=Z)"
      ],
      "id": "BMmUKBhbOPnL"
    },
    {
      "cell_type": "markdown",
      "metadata": {
        "id": "4FyGCJc5OPnL"
      },
      "source": [
        "#### 78. Consider 2 sets of points P0,P1 describing lines (2d) and a point p, how to compute distance from p to each line i (P0[i],P1[i])? (★★★)"
      ],
      "id": "4FyGCJc5OPnL"
    },
    {
      "cell_type": "code",
      "execution_count": 30,
      "metadata": {
        "colab": {
          "base_uri": "https://localhost:8080/"
        },
        "id": "nwDCHMgROPnL",
        "outputId": "60e654d0-d83f-482c-ed11-1a1afa5c2ddb"
      },
      "outputs": [
        {
          "output_type": "stream",
          "name": "stdout",
          "text": [
            "[12.46468335  0.02772503  0.77111265  4.88973782  9.96355371  5.40960083\n",
            "  1.73689917  3.67669622  6.21654062 14.54378239]\n"
          ]
        }
      ],
      "source": [
        "def distance(P0, P1, p):\n",
        "    T = P1 - P0\n",
        "    L = (T**2).sum(axis=1)\n",
        "    U = -((P0[:,0]-p[...,0])*T[:,0] + (P0[:,1]-p[...,1])*T[:,1]) / L\n",
        "    U = U.reshape(len(U),1)\n",
        "    D = P0 + U*T - p\n",
        "    return np.sqrt((D**2).sum(axis=1))\n",
        "\n",
        "P0 = np.random.uniform(-10,10,(10,2))\n",
        "P1 = np.random.uniform(-10,10,(10,2))\n",
        "p  = np.random.uniform(-10,10,( 1,2))\n",
        "print(distance(P0, P1, p))"
      ],
      "id": "nwDCHMgROPnL"
    },
    {
      "cell_type": "markdown",
      "metadata": {
        "id": "pVQWwSRnOPnL"
      },
      "source": [
        "#### 79. Consider 2 sets of points P0,P1 describing lines (2d) and a set of points P, how to compute distance from each point j (P[j]) to each line i (P0[i],P1[i])? (★★★)"
      ],
      "id": "pVQWwSRnOPnL"
    },
    {
      "cell_type": "code",
      "execution_count": 31,
      "metadata": {
        "colab": {
          "base_uri": "https://localhost:8080/"
        },
        "id": "Bi54t-VYOPnM",
        "outputId": "6effaff9-2b78-48d8-c540-fd3220e91244"
      },
      "outputs": [
        {
          "output_type": "stream",
          "name": "stdout",
          "text": [
            "[[ 5.78459596  0.80169345  5.9121947  13.20090535  1.26599525  3.42483648\n",
            "   2.31189173  1.12670266  7.70946002  8.58717283]\n",
            " [ 2.92852448 11.36607801  8.88330943  3.73355957 14.72996904  1.57893938\n",
            "  14.22957244  9.41562253 10.08118402  6.14671671]\n",
            " [10.81896366  7.98259987  8.2828074   2.47493885  5.68474371 13.24607258\n",
            "   5.21521678 10.34205973  7.50807436  2.19235054]\n",
            " [ 5.05471842  1.59817283  2.9361227  11.13999113  2.03819318  2.25920705\n",
            "   4.65793496  2.70163679  8.05139034  5.5038175 ]\n",
            " [ 6.40689573  5.51648867  1.03820373 10.73261141  5.15317689  3.08558705\n",
            "   8.55705559  6.1878735  10.53161783  3.17834702]\n",
            " [ 6.14327156  4.78416559  4.5725488   3.48838129 15.59210174 10.26384255\n",
            "   7.4962959   1.11398554  0.77705588  9.48176809]\n",
            " [ 7.69225897 10.98167287 12.77220418  2.67525345  0.42918423  9.41318366\n",
            "   8.08723535 11.51383435  6.26220466  4.01903648]\n",
            " [ 8.90952201  3.53083709  4.11299431  6.07130054 16.68725123 13.03223775\n",
            "   6.18609767  0.84037811  1.77947376 11.22297624]\n",
            " [ 2.18917184  5.66351745  8.6537268   6.38659745  0.51148881  4.35603975\n",
            "   2.69610322  5.46311968  0.12476463  4.76841611]\n",
            " [ 3.09831008  6.865175    5.87402049  0.99955338 15.16113916  7.32830716\n",
            "   9.62993368  3.80227381  3.85226937  8.2391409 ]]\n"
          ]
        }
      ],
      "source": [
        "P0 = np.random.uniform(-10, 10, (10,2))\n",
        "P1 = np.random.uniform(-10,10,(10,2))\n",
        "p = np.random.uniform(-10, 10, (10,2))\n",
        "print(np.array([distance(P0,P1,p_i) for p_i in p]))"
      ],
      "id": "Bi54t-VYOPnM"
    },
    {
      "cell_type": "markdown",
      "metadata": {
        "id": "Jo30_1dZOPnM"
      },
      "source": [
        "#### 80. Consider an arbitrary array, write a function that extract a subpart with a fixed shape and centered on a given element (pad with a `fill` value when necessary) (★★★)"
      ],
      "id": "Jo30_1dZOPnM"
    },
    {
      "cell_type": "code",
      "execution_count": 32,
      "metadata": {
        "colab": {
          "base_uri": "https://localhost:8080/"
        },
        "id": "Izmg8gqWOPnM",
        "outputId": "c9c488e7-ec68-487c-efb6-7385ea6745d1"
      },
      "outputs": [
        {
          "output_type": "stream",
          "name": "stdout",
          "text": [
            "[[1 1 9 5 7 0 8 9 7 9]\n",
            " [7 0 8 3 5 7 0 9 5 9]\n",
            " [5 7 3 8 6 0 2 4 8 6]\n",
            " [4 3 2 5 4 2 4 7 0 1]\n",
            " [2 3 9 4 2 5 4 0 7 1]\n",
            " [0 8 1 4 3 8 3 5 5 1]\n",
            " [9 8 5 3 8 1 1 5 1 4]\n",
            " [8 1 7 8 6 8 2 2 6 4]\n",
            " [8 8 5 5 9 2 2 9 1 4]\n",
            " [8 4 9 1 3 0 5 5 6 4]]\n",
            "[[0 0 0 0 0]\n",
            " [0 1 1 9 5]\n",
            " [0 7 0 8 3]\n",
            " [0 5 7 3 8]\n",
            " [0 4 3 2 5]]\n"
          ]
        },
        {
          "output_type": "stream",
          "name": "stderr",
          "text": [
            "<ipython-input-32-f2b5781f38bf>:23: FutureWarning: Using a non-tuple sequence for multidimensional indexing is deprecated; use `arr[tuple(seq)]` instead of `arr[seq]`. In the future this will be interpreted as an array index, `arr[np.array(seq)]`, which will result either in an error or a different result.\n",
            "  R[r] = Z[z]\n"
          ]
        }
      ],
      "source": [
        "Z = np.random.randint(0,10,(10,10))\n",
        "shape = (5,5)\n",
        "fill  = 0\n",
        "position = (1,1)\n",
        "\n",
        "R = np.ones(shape, dtype=Z.dtype)*fill\n",
        "P  = np.array(list(position)).astype(int)\n",
        "Rs = np.array(list(R.shape)).astype(int)\n",
        "Zs = np.array(list(Z.shape)).astype(int)\n",
        "\n",
        "R_start = np.zeros((len(shape),)).astype(int)\n",
        "R_stop  = np.array(list(shape)).astype(int)\n",
        "Z_start = (P-Rs//2)\n",
        "Z_stop  = (P+Rs//2)+Rs%2\n",
        "\n",
        "R_start = (R_start - np.minimum(Z_start,0)).tolist()\n",
        "Z_start = (np.maximum(Z_start,0)).tolist()\n",
        "R_stop = np.maximum(R_start, (R_stop - np.maximum(Z_stop-Zs,0))).tolist()\n",
        "Z_stop = (np.minimum(Z_stop,Zs)).tolist()\n",
        "\n",
        "r = [slice(start,stop) for start,stop in zip(R_start,R_stop)]\n",
        "z = [slice(start,stop) for start,stop in zip(Z_start,Z_stop)]\n",
        "R[r] = Z[z]\n",
        "print(Z)\n",
        "print(R)"
      ],
      "id": "Izmg8gqWOPnM"
    },
    {
      "cell_type": "markdown",
      "metadata": {
        "id": "ky81kf9eOPnM"
      },
      "source": [
        "#### 81. Consider an array Z = [1,2,3,4,5,6,7,8,9,10,11,12,13,14], how to generate an array R = [[1,2,3,4], [2,3,4,5], [3,4,5,6], ..., [11,12,13,14]]? (★★★)"
      ],
      "id": "ky81kf9eOPnM"
    },
    {
      "cell_type": "code",
      "execution_count": 33,
      "metadata": {
        "colab": {
          "base_uri": "https://localhost:8080/"
        },
        "id": "3tXhzBaROPnM",
        "outputId": "b35b1e33-00be-496a-80ad-1082d727b044"
      },
      "outputs": [
        {
          "output_type": "stream",
          "name": "stdout",
          "text": [
            "[[ 1  2  3  4]\n",
            " [ 2  3  4  5]\n",
            " [ 3  4  5  6]\n",
            " [ 4  5  6  7]\n",
            " [ 5  6  7  8]\n",
            " [ 6  7  8  9]\n",
            " [ 7  8  9 10]\n",
            " [ 8  9 10 11]\n",
            " [ 9 10 11 12]\n",
            " [10 11 12 13]\n",
            " [11 12 13 14]]\n"
          ]
        }
      ],
      "source": [
        "Z = np.arange(1,15,dtype=np.uint32)\n",
        "R = np.lib.stride_tricks.as_strided(Z,(11,4),(4,4))\n",
        "print(R)"
      ],
      "id": "3tXhzBaROPnM"
    },
    {
      "cell_type": "markdown",
      "metadata": {
        "id": "v3ZntJ6YOPnM"
      },
      "source": [
        "#### 82. Compute a matrix rank (★★★)"
      ],
      "id": "v3ZntJ6YOPnM"
    },
    {
      "cell_type": "code",
      "execution_count": 34,
      "metadata": {
        "colab": {
          "base_uri": "https://localhost:8080/"
        },
        "id": "PzAuQCXPOPnM",
        "outputId": "22a14fd5-0e8b-49f9-9d68-e0e9b576ae4f"
      },
      "outputs": [
        {
          "output_type": "stream",
          "name": "stdout",
          "text": [
            "10\n"
          ]
        }
      ],
      "source": [
        "Z = np.random.uniform(0,1,(10,10))\n",
        "U, S, V = np.linalg.svd(Z) # Singular Value Decomposition\n",
        "rank = np.sum(S > 1e-10)\n",
        "print(rank)"
      ],
      "id": "PzAuQCXPOPnM"
    },
    {
      "cell_type": "markdown",
      "metadata": {
        "id": "DPX31piLOPnN"
      },
      "source": [
        "#### 83. How to find the most frequent value in an array?"
      ],
      "id": "DPX31piLOPnN"
    },
    {
      "cell_type": "code",
      "execution_count": 35,
      "metadata": {
        "colab": {
          "base_uri": "https://localhost:8080/"
        },
        "id": "PBkv4XO_OPnN",
        "outputId": "ca911935-4ae6-49d9-a050-ee4e0c1d76c3"
      },
      "outputs": [
        {
          "output_type": "stream",
          "name": "stdout",
          "text": [
            "6\n"
          ]
        }
      ],
      "source": [
        "Z = np.random.randint(0,10,50)\n",
        "print(np.bincount(Z).argmax())"
      ],
      "id": "PBkv4XO_OPnN"
    },
    {
      "cell_type": "markdown",
      "metadata": {
        "id": "7Igr2NKJOPnN"
      },
      "source": [
        "#### 84. Extract all the contiguous 3x3 blocks from a random 10x10 matrix (★★★)"
      ],
      "id": "7Igr2NKJOPnN"
    },
    {
      "cell_type": "code",
      "execution_count": 36,
      "metadata": {
        "colab": {
          "base_uri": "https://localhost:8080/"
        },
        "id": "tCH4hMBeOPnN",
        "outputId": "4c8a3a7d-2abb-415f-e0ab-cd9f527620cc"
      },
      "outputs": [
        {
          "output_type": "stream",
          "name": "stdout",
          "text": [
            "[[[[0 2 1]\n",
            "   [2 4 1]\n",
            "   [3 1 4]]\n",
            "\n",
            "  [[2 1 2]\n",
            "   [4 1 4]\n",
            "   [1 4 1]]\n",
            "\n",
            "  [[1 2 1]\n",
            "   [1 4 3]\n",
            "   [4 1 4]]\n",
            "\n",
            "  [[2 1 1]\n",
            "   [4 3 3]\n",
            "   [1 4 3]]\n",
            "\n",
            "  [[1 1 4]\n",
            "   [3 3 2]\n",
            "   [4 3 3]]\n",
            "\n",
            "  [[1 4 2]\n",
            "   [3 2 3]\n",
            "   [3 3 2]]\n",
            "\n",
            "  [[4 2 0]\n",
            "   [2 3 1]\n",
            "   [3 2 2]]\n",
            "\n",
            "  [[2 0 1]\n",
            "   [3 1 0]\n",
            "   [2 2 2]]]\n",
            "\n",
            "\n",
            " [[[2 4 1]\n",
            "   [3 1 4]\n",
            "   [3 0 0]]\n",
            "\n",
            "  [[4 1 4]\n",
            "   [1 4 1]\n",
            "   [0 0 3]]\n",
            "\n",
            "  [[1 4 3]\n",
            "   [4 1 4]\n",
            "   [0 3 2]]\n",
            "\n",
            "  [[4 3 3]\n",
            "   [1 4 3]\n",
            "   [3 2 0]]\n",
            "\n",
            "  [[3 3 2]\n",
            "   [4 3 3]\n",
            "   [2 0 3]]\n",
            "\n",
            "  [[3 2 3]\n",
            "   [3 3 2]\n",
            "   [0 3 3]]\n",
            "\n",
            "  [[2 3 1]\n",
            "   [3 2 2]\n",
            "   [3 3 3]]\n",
            "\n",
            "  [[3 1 0]\n",
            "   [2 2 2]\n",
            "   [3 3 3]]]\n",
            "\n",
            "\n",
            " [[[3 1 4]\n",
            "   [3 0 0]\n",
            "   [4 1 4]]\n",
            "\n",
            "  [[1 4 1]\n",
            "   [0 0 3]\n",
            "   [1 4 1]]\n",
            "\n",
            "  [[4 1 4]\n",
            "   [0 3 2]\n",
            "   [4 1 4]]\n",
            "\n",
            "  [[1 4 3]\n",
            "   [3 2 0]\n",
            "   [1 4 4]]\n",
            "\n",
            "  [[4 3 3]\n",
            "   [2 0 3]\n",
            "   [4 4 2]]\n",
            "\n",
            "  [[3 3 2]\n",
            "   [0 3 3]\n",
            "   [4 2 1]]\n",
            "\n",
            "  [[3 2 2]\n",
            "   [3 3 3]\n",
            "   [2 1 3]]\n",
            "\n",
            "  [[2 2 2]\n",
            "   [3 3 3]\n",
            "   [1 3 2]]]\n",
            "\n",
            "\n",
            " [[[3 0 0]\n",
            "   [4 1 4]\n",
            "   [2 1 2]]\n",
            "\n",
            "  [[0 0 3]\n",
            "   [1 4 1]\n",
            "   [1 2 2]]\n",
            "\n",
            "  [[0 3 2]\n",
            "   [4 1 4]\n",
            "   [2 2 0]]\n",
            "\n",
            "  [[3 2 0]\n",
            "   [1 4 4]\n",
            "   [2 0 0]]\n",
            "\n",
            "  [[2 0 3]\n",
            "   [4 4 2]\n",
            "   [0 0 2]]\n",
            "\n",
            "  [[0 3 3]\n",
            "   [4 2 1]\n",
            "   [0 2 3]]\n",
            "\n",
            "  [[3 3 3]\n",
            "   [2 1 3]\n",
            "   [2 3 4]]\n",
            "\n",
            "  [[3 3 3]\n",
            "   [1 3 2]\n",
            "   [3 4 4]]]\n",
            "\n",
            "\n",
            " [[[4 1 4]\n",
            "   [2 1 2]\n",
            "   [2 2 4]]\n",
            "\n",
            "  [[1 4 1]\n",
            "   [1 2 2]\n",
            "   [2 4 0]]\n",
            "\n",
            "  [[4 1 4]\n",
            "   [2 2 0]\n",
            "   [4 0 3]]\n",
            "\n",
            "  [[1 4 4]\n",
            "   [2 0 0]\n",
            "   [0 3 4]]\n",
            "\n",
            "  [[4 4 2]\n",
            "   [0 0 2]\n",
            "   [3 4 2]]\n",
            "\n",
            "  [[4 2 1]\n",
            "   [0 2 3]\n",
            "   [4 2 3]]\n",
            "\n",
            "  [[2 1 3]\n",
            "   [2 3 4]\n",
            "   [2 3 1]]\n",
            "\n",
            "  [[1 3 2]\n",
            "   [3 4 4]\n",
            "   [3 1 0]]]\n",
            "\n",
            "\n",
            " [[[2 1 2]\n",
            "   [2 2 4]\n",
            "   [4 0 0]]\n",
            "\n",
            "  [[1 2 2]\n",
            "   [2 4 0]\n",
            "   [0 0 0]]\n",
            "\n",
            "  [[2 2 0]\n",
            "   [4 0 3]\n",
            "   [0 0 2]]\n",
            "\n",
            "  [[2 0 0]\n",
            "   [0 3 4]\n",
            "   [0 2 0]]\n",
            "\n",
            "  [[0 0 2]\n",
            "   [3 4 2]\n",
            "   [2 0 3]]\n",
            "\n",
            "  [[0 2 3]\n",
            "   [4 2 3]\n",
            "   [0 3 4]]\n",
            "\n",
            "  [[2 3 4]\n",
            "   [2 3 1]\n",
            "   [3 4 2]]\n",
            "\n",
            "  [[3 4 4]\n",
            "   [3 1 0]\n",
            "   [4 2 0]]]\n",
            "\n",
            "\n",
            " [[[2 2 4]\n",
            "   [4 0 0]\n",
            "   [1 3 0]]\n",
            "\n",
            "  [[2 4 0]\n",
            "   [0 0 0]\n",
            "   [3 0 3]]\n",
            "\n",
            "  [[4 0 3]\n",
            "   [0 0 2]\n",
            "   [0 3 4]]\n",
            "\n",
            "  [[0 3 4]\n",
            "   [0 2 0]\n",
            "   [3 4 3]]\n",
            "\n",
            "  [[3 4 2]\n",
            "   [2 0 3]\n",
            "   [4 3 2]]\n",
            "\n",
            "  [[4 2 3]\n",
            "   [0 3 4]\n",
            "   [3 2 4]]\n",
            "\n",
            "  [[2 3 1]\n",
            "   [3 4 2]\n",
            "   [2 4 3]]\n",
            "\n",
            "  [[3 1 0]\n",
            "   [4 2 0]\n",
            "   [4 3 2]]]\n",
            "\n",
            "\n",
            " [[[4 0 0]\n",
            "   [1 3 0]\n",
            "   [2 0 2]]\n",
            "\n",
            "  [[0 0 0]\n",
            "   [3 0 3]\n",
            "   [0 2 0]]\n",
            "\n",
            "  [[0 0 2]\n",
            "   [0 3 4]\n",
            "   [2 0 2]]\n",
            "\n",
            "  [[0 2 0]\n",
            "   [3 4 3]\n",
            "   [0 2 3]]\n",
            "\n",
            "  [[2 0 3]\n",
            "   [4 3 2]\n",
            "   [2 3 3]]\n",
            "\n",
            "  [[0 3 4]\n",
            "   [3 2 4]\n",
            "   [3 3 2]]\n",
            "\n",
            "  [[3 4 2]\n",
            "   [2 4 3]\n",
            "   [3 2 1]]\n",
            "\n",
            "  [[4 2 0]\n",
            "   [4 3 2]\n",
            "   [2 1 0]]]]\n"
          ]
        }
      ],
      "source": [
        "Z = np.random.randint(0,5,(10,10))\n",
        "n = 3\n",
        "i = 1 + (Z.shape[0]-3)\n",
        "j = 1 + (Z.shape[1]-3)\n",
        "C = np.lib.stride_tricks.as_strided(Z, shape=(i, j, n, n), strides=Z.strides + Z.strides)\n",
        "print(C)"
      ],
      "id": "tCH4hMBeOPnN"
    },
    {
      "cell_type": "markdown",
      "metadata": {
        "id": "prjx--ecOPnN"
      },
      "source": [
        "#### 85. Create a 2D array subclass such that Z[i,j] == Z[j,i] (★★★)"
      ],
      "id": "prjx--ecOPnN"
    },
    {
      "cell_type": "code",
      "execution_count": 37,
      "metadata": {
        "colab": {
          "base_uri": "https://localhost:8080/"
        },
        "id": "RCrb_SlpOPnN",
        "outputId": "a59caf94-d010-4c30-f213-0fcef65f36c6"
      },
      "outputs": [
        {
          "output_type": "stream",
          "name": "stdout",
          "text": [
            "[[ 3 16  7 11  4]\n",
            " [16  4  7  9  9]\n",
            " [ 7  7  3 42 12]\n",
            " [11  9 42  5 12]\n",
            " [ 4  9 12 12  3]]\n"
          ]
        }
      ],
      "source": [
        "class Symetric(np.ndarray):\n",
        "    def __setitem__(self, index, value):\n",
        "        i,j = index\n",
        "        super(Symetric, self).__setitem__((i,j), value)\n",
        "        super(Symetric, self).__setitem__((j,i), value)\n",
        "\n",
        "def symetric(Z):\n",
        "    return np.asarray(Z + Z.T - np.diag(Z.diagonal())).view(Symetric)\n",
        "\n",
        "S = symetric(np.random.randint(0,10,(5,5)))\n",
        "S[2,3] = 42\n",
        "print(S)"
      ],
      "id": "RCrb_SlpOPnN"
    },
    {
      "cell_type": "markdown",
      "metadata": {
        "id": "UEs9DGSzOPnN"
      },
      "source": [
        "#### 86. Consider a set of p matrices wich shape (n,n) and a set of p vectors with shape (n,1). How to compute the sum of of the p matrix products at once? (result has shape (n,1)) (★★★)"
      ],
      "id": "UEs9DGSzOPnN"
    },
    {
      "cell_type": "code",
      "execution_count": 38,
      "metadata": {
        "colab": {
          "base_uri": "https://localhost:8080/"
        },
        "id": "MBJDO5qqOPnO",
        "outputId": "cd0fb11f-1c37-4161-a0d9-e24a28539d9b"
      },
      "outputs": [
        {
          "output_type": "stream",
          "name": "stdout",
          "text": [
            "[[200.]\n",
            " [200.]\n",
            " [200.]\n",
            " [200.]\n",
            " [200.]\n",
            " [200.]\n",
            " [200.]\n",
            " [200.]\n",
            " [200.]\n",
            " [200.]\n",
            " [200.]\n",
            " [200.]\n",
            " [200.]\n",
            " [200.]\n",
            " [200.]\n",
            " [200.]\n",
            " [200.]\n",
            " [200.]\n",
            " [200.]\n",
            " [200.]]\n"
          ]
        }
      ],
      "source": [
        "p, n = 10, 20\n",
        "M = np.ones((p,n,n))\n",
        "V = np.ones((p,n,1))\n",
        "S = np.tensordot(M, V, axes=[[0, 2], [0, 1]])\n",
        "print(S)"
      ],
      "id": "MBJDO5qqOPnO"
    },
    {
      "cell_type": "markdown",
      "metadata": {
        "id": "0EyPrMRnOPnO"
      },
      "source": [
        "#### 87. Consider a 16x16 array, how to get the block-sum (block size is 4x4)? (★★★)"
      ],
      "id": "0EyPrMRnOPnO"
    },
    {
      "cell_type": "code",
      "execution_count": 39,
      "metadata": {
        "colab": {
          "base_uri": "https://localhost:8080/"
        },
        "id": "o05Cpso6OPnO",
        "outputId": "c02c1fbe-1d4f-4c27-f086-2b435edc5454"
      },
      "outputs": [
        {
          "output_type": "stream",
          "name": "stdout",
          "text": [
            "[[16. 16. 16. 16.]\n",
            " [16. 16. 16. 16.]\n",
            " [16. 16. 16. 16.]\n",
            " [16. 16. 16. 16.]]\n"
          ]
        }
      ],
      "source": [
        "Z = np.ones((16,16))\n",
        "k = 4\n",
        "S = np.add.reduceat(np.add.reduceat(Z, np.arange(0, Z.shape[0], k), axis=0),\n",
        "                                       np.arange(0, Z.shape[1], k), axis=1)\n",
        "print(S)"
      ],
      "id": "o05Cpso6OPnO"
    },
    {
      "cell_type": "markdown",
      "metadata": {
        "id": "yjg1apt0OPnO"
      },
      "source": [
        "#### 88. How to implement the Game of Life using numpy arrays? (★★★)"
      ],
      "id": "yjg1apt0OPnO"
    },
    {
      "cell_type": "code",
      "execution_count": 40,
      "metadata": {
        "colab": {
          "base_uri": "https://localhost:8080/"
        },
        "id": "oUqz98ucOPnO",
        "outputId": "4164d752-e530-4c3d-b10e-e2bcb34cc85b"
      },
      "outputs": [
        {
          "output_type": "stream",
          "name": "stdout",
          "text": [
            "[[0 0 0 ... 0 0 0]\n",
            " [0 0 0 ... 0 0 0]\n",
            " [0 0 0 ... 0 0 0]\n",
            " ...\n",
            " [0 0 0 ... 0 0 0]\n",
            " [0 0 0 ... 0 0 0]\n",
            " [0 0 0 ... 0 0 0]]\n"
          ]
        }
      ],
      "source": [
        "def iterate(Z):\n",
        "    N = (Z[0:-2,0:-2] + Z[0:-2,1:-1] + Z[0:-2,2:] +\n",
        "         Z[1:-1,0:-2]                + Z[1:-1,2:] +\n",
        "         Z[2:  ,0:-2] + Z[2:  ,1:-1] + Z[2:  ,2:])\n",
        "\n",
        "    birth = (N==3) & (Z[1:-1,1:-1]==0)\n",
        "    survive = ((N==2) | (N==3)) & (Z[1:-1,1:-1]==1)\n",
        "    Z[...] = 0\n",
        "    Z[1:-1,1:-1][birth | survive] = 1\n",
        "    return Z\n",
        "\n",
        "Z = np.random.randint(0,2,(50,50))\n",
        "for i in range(100): Z = iterate(Z)\n",
        "print(Z)"
      ],
      "id": "oUqz98ucOPnO"
    },
    {
      "cell_type": "markdown",
      "metadata": {
        "id": "0Y5vLhDBOPnO"
      },
      "source": [
        "#### 89. How to get the n largest values of an array (★★★)"
      ],
      "id": "0Y5vLhDBOPnO"
    },
    {
      "cell_type": "code",
      "execution_count": 41,
      "metadata": {
        "colab": {
          "base_uri": "https://localhost:8080/"
        },
        "id": "nngUTF0TOPnO",
        "outputId": "d4e19902-2a3c-46fc-853f-fae20a4ca92d"
      },
      "outputs": [
        {
          "output_type": "stream",
          "name": "stdout",
          "text": [
            "[9995 9996 9997 9998 9999]\n",
            "[9996 9998 9997 9999 9995]\n"
          ]
        }
      ],
      "source": [
        "Z = np.arange(10000)\n",
        "np.random.shuffle(Z)\n",
        "n = 5\n",
        "\n",
        "# Slow\n",
        "print (Z[np.argsort(Z)[-n:]])\n",
        "\n",
        "# Fast\n",
        "print (Z[np.argpartition(-Z,n)[:n]])"
      ],
      "id": "nngUTF0TOPnO"
    },
    {
      "cell_type": "markdown",
      "metadata": {
        "id": "SjJv4hDLOPnO"
      },
      "source": [
        "#### 90. Given an arbitrary number of vectors, build the cartesian product (every combinations of every item) (★★★)"
      ],
      "id": "SjJv4hDLOPnO"
    },
    {
      "cell_type": "code",
      "execution_count": 42,
      "metadata": {
        "colab": {
          "base_uri": "https://localhost:8080/"
        },
        "id": "ZlunIdWwOPnP",
        "outputId": "c4c6e066-c5cf-4a46-81c4-8d976fe5fc91"
      },
      "outputs": [
        {
          "output_type": "stream",
          "name": "stdout",
          "text": [
            "[[1 4 6]\n",
            " [1 4 7]\n",
            " [1 5 6]\n",
            " [1 5 7]\n",
            " [2 4 6]\n",
            " [2 4 7]\n",
            " [2 5 6]\n",
            " [2 5 7]\n",
            " [3 4 6]\n",
            " [3 4 7]\n",
            " [3 5 6]\n",
            " [3 5 7]]\n"
          ]
        }
      ],
      "source": [
        "def cartesian(arrays):\n",
        "    arrays = [np.asarray(a) for a in arrays]\n",
        "    shape = (len(x) for x in arrays)\n",
        "\n",
        "    ix = np.indices(shape, dtype=int)\n",
        "    ix = ix.reshape(len(arrays), -1).T\n",
        "\n",
        "    for n, arr in enumerate(arrays):\n",
        "        ix[:, n] = arrays[n][ix[:, n]]\n",
        "\n",
        "    return ix\n",
        "\n",
        "print (cartesian(([1, 2, 3], [4, 5], [6, 7])))"
      ],
      "id": "ZlunIdWwOPnP"
    },
    {
      "cell_type": "markdown",
      "metadata": {
        "id": "KrCPMM-DOPnP"
      },
      "source": [
        "#### 91. How to create a record array from a regular array? (★★★)"
      ],
      "id": "KrCPMM-DOPnP"
    },
    {
      "cell_type": "code",
      "execution_count": 43,
      "metadata": {
        "colab": {
          "base_uri": "https://localhost:8080/"
        },
        "id": "cRv-ODa0OPnP",
        "outputId": "5755a942-f8c2-49e2-a099-29cb731c7429"
      },
      "outputs": [
        {
          "output_type": "stream",
          "name": "stdout",
          "text": [
            "[(b'Hello', 2.5, 3) (b'World', 3.6, 2)]\n"
          ]
        }
      ],
      "source": [
        "Z = np.array([(\"Hello\", 2.5, 3),\n",
        "              (\"World\", 3.6, 2)])\n",
        "R = np.core.records.fromarrays(Z.T, \n",
        "                               names='col1, col2, col3',\n",
        "                               formats = 'S8, f8, i8')\n",
        "print(R)"
      ],
      "id": "cRv-ODa0OPnP"
    },
    {
      "cell_type": "markdown",
      "metadata": {
        "id": "LzZNo_HhOPnP"
      },
      "source": [
        "#### 92. Consider a large vector Z, compute Z to the power of 3 using 3 different methods (★★★)"
      ],
      "id": "LzZNo_HhOPnP"
    },
    {
      "cell_type": "code",
      "execution_count": null,
      "metadata": {
        "colab": {
          "base_uri": "https://localhost:8080/"
        },
        "id": "jorChou7OPnP",
        "outputId": "3e110264-699d-493b-9d15-10d0f213a08d"
      },
      "outputs": [
        {
          "output_type": "stream",
          "name": "stdout",
          "text": [
            "745 ms ± 7.64 ms per loop (mean ± std. dev. of 7 runs, 1 loop each)\n",
            "96.9 ms ± 4.48 ms per loop (mean ± std. dev. of 7 runs, 10 loops each)\n"
          ]
        }
      ],
      "source": [
        "x = np.random.rand(int(5e7))\n",
        "\n",
        "%timeit np.power(x,3)\n",
        "%timeit x*x*x\n",
        "%timeit np.einsum('i,i,i->i',x,x,x)"
      ],
      "id": "jorChou7OPnP"
    },
    {
      "cell_type": "markdown",
      "metadata": {
        "id": "8DI0ZaviOPnP"
      },
      "source": [
        "#### 93. Consider two arrays A and B of shape (8,3) and (2,2). How to find rows of A that contain elements of each row of B regardless of the order of the elements in B? (★★★)"
      ],
      "id": "8DI0ZaviOPnP"
    },
    {
      "cell_type": "code",
      "execution_count": null,
      "metadata": {
        "id": "iMn-vb03OPnP"
      },
      "outputs": [],
      "source": [
        "A = np.random.randint(0,5,(8,3))\n",
        "B = np.random.randint(0,5,(2,2))\n",
        "\n",
        "C = (A[..., np.newaxis, np.newaxis] == B)\n",
        "rows = np.where(C.any((3,1)).all(1))[0]\n",
        "print(rows)"
      ],
      "id": "iMn-vb03OPnP"
    },
    {
      "cell_type": "markdown",
      "metadata": {
        "id": "IaohLBwTOPnQ"
      },
      "source": [
        "#### 94. Considering a 10x3 matrix, extract rows with unequal values (e.g. [2,2,3]) (★★★)"
      ],
      "id": "IaohLBwTOPnQ"
    },
    {
      "cell_type": "code",
      "execution_count": null,
      "metadata": {
        "id": "SkJfDaGrOPnQ"
      },
      "outputs": [],
      "source": [
        "Z = np.random.randint(0,5,(10,3))\n",
        "print(Z)\n",
        "U = Z[Z.max(axis=1) != Z.min(axis=1),:]\n",
        "print(U)"
      ],
      "id": "SkJfDaGrOPnQ"
    },
    {
      "cell_type": "markdown",
      "metadata": {
        "id": "mZU4ButwOPnQ"
      },
      "source": [
        "#### 95. Convert a vector of ints into a matrix binary representation (★★★)"
      ],
      "id": "mZU4ButwOPnQ"
    },
    {
      "cell_type": "code",
      "execution_count": null,
      "metadata": {
        "id": "oPu_Mw05OPnQ"
      },
      "outputs": [],
      "source": [
        "I = np.array([0, 1, 2, 3, 15, 16, 32, 64, 128])\n",
        "B = ((I.reshape(-1,1) & (2**np.arange(8))) != 0).astype(int)\n",
        "print(B[:,::-1])"
      ],
      "id": "oPu_Mw05OPnQ"
    },
    {
      "cell_type": "markdown",
      "metadata": {
        "id": "RdAF2NjUOPnQ"
      },
      "source": [
        "#### 96. Given a two dimensional array, how to extract unique rows? (★★★)"
      ],
      "id": "RdAF2NjUOPnQ"
    },
    {
      "cell_type": "code",
      "execution_count": null,
      "metadata": {
        "id": "O_S7uP22OPnQ"
      },
      "outputs": [],
      "source": [
        "Z = np.random.randint(0,2,(6,3))\n",
        "T = np.ascontiguousarray(Z).view(np.dtype((np.void, Z.dtype.itemsize * Z.shape[1])))\n",
        "_, idx = np.unique(T, return_index=True)\n",
        "uZ = Z[idx]\n",
        "print(uZ)"
      ],
      "id": "O_S7uP22OPnQ"
    },
    {
      "cell_type": "markdown",
      "metadata": {
        "id": "OsQgIBbvOPnQ"
      },
      "source": [
        "#### 97. Considering 2 vectors A & B, write the einsum equivalent of inner, outer, sum, and mul function (★★★)"
      ],
      "id": "OsQgIBbvOPnQ"
    },
    {
      "cell_type": "code",
      "execution_count": null,
      "metadata": {
        "id": "sSOnRdKzOPnQ"
      },
      "outputs": [],
      "source": [
        "A = np.random.uniform(0,1,10)\n",
        "B = np.random.uniform(0,1,10)\n",
        "np.einsum('i->', A) # np.sum(A)\n",
        "np.einsum('i,i->i', A, B) # A * B\n",
        "np.einsum('i,i', A, B) # np.inner(A, B)\n",
        "np.einsum('i,j->ij', A, B) # np.outer(A, B)"
      ],
      "id": "sSOnRdKzOPnQ"
    },
    {
      "cell_type": "markdown",
      "metadata": {
        "id": "71tS-pooOPnR"
      },
      "source": [
        "#### 98. Considering a path described by two vectors (X,Y), how to sample it using equidistant samples (★★★)?"
      ],
      "id": "71tS-pooOPnR"
    },
    {
      "cell_type": "code",
      "execution_count": null,
      "metadata": {
        "id": "ect24cyGOPnR"
      },
      "outputs": [],
      "source": [
        "phi = np.arange(0, 10*np.pi, 0.1)\n",
        "a = 1\n",
        "x = a*phi*np.cos(phi)\n",
        "y = a*phi*np.sin(phi)\n",
        "dr = (np.diff(x)**2 + np.diff(y)**2)**.5\n",
        "r = np.zeros_like(x)\n",
        "r[1:] = np.cumsum(dr)\n",
        "r_int = np.linspace(0, r.max(), 200)\n",
        "x_int = np.interp(r_int, r, x)\n",
        "y_int = np.interp(r_int, r, y)"
      ],
      "id": "ect24cyGOPnR"
    },
    {
      "cell_type": "markdown",
      "metadata": {
        "id": "TxBhqzHGOPnR"
      },
      "source": [
        "#### 99. Given an integer n and a 2D array X, select from X the rows which can be interpreted as draws from a multinomial distribution with n degrees, i.e., the rows which only contain integers and which sum to n. (★★★)"
      ],
      "id": "TxBhqzHGOPnR"
    },
    {
      "cell_type": "code",
      "execution_count": null,
      "metadata": {
        "id": "YxcWM3rwOPnR"
      },
      "outputs": [],
      "source": [
        "X = np.asarray([[1.0, 0.0, 3.0, 8.0], [2.0, 0.0, 1.0, 1.0], [1.5, 2.5, 1.0, 0.0]])\n",
        "n = 4\n",
        "M = np.logical_and.reduce(np.mod(X, 1) == 0, axis=-1)\n",
        "M &= (X.sum(axis=-1) == n)\n",
        "print(X[M])"
      ],
      "id": "YxcWM3rwOPnR"
    },
    {
      "cell_type": "markdown",
      "metadata": {
        "id": "jtKQZaDCOPnR"
      },
      "source": [
        "#### 100. Compute bootstrapped 95% confidence intervals for the mean of a 1D array X (i.e., resample the elements of an array with replacement N times, compute the mean of each sample, and then compute percentiles over the means). (★★★)"
      ],
      "id": "jtKQZaDCOPnR"
    },
    {
      "cell_type": "code",
      "execution_count": null,
      "metadata": {
        "id": "yVXSyM3wOPnR"
      },
      "outputs": [],
      "source": [
        "X = np.random.randn(100)\n",
        "N = 1000\n",
        "idx = np.random.randint(0, X.size, (N, X.size))\n",
        "means = X[idx].mean(axis=1)\n",
        "confint = np.percentile(means, [2.5, 97.5])\n",
        "print(confint)"
      ],
      "id": "yVXSyM3wOPnR"
    }
  ],
  "metadata": {
    "kernelspec": {
      "display_name": "Python 3",
      "language": "python",
      "name": "python3"
    },
    "language_info": {
      "codemirror_mode": {
        "name": "ipython",
        "version": 3
      },
      "file_extension": ".py",
      "mimetype": "text/x-python",
      "name": "python",
      "nbconvert_exporter": "python",
      "pygments_lexer": "ipython3",
      "version": "3.7.7"
    },
    "colab": {
      "provenance": []
    }
  },
  "nbformat": 4,
  "nbformat_minor": 5
}